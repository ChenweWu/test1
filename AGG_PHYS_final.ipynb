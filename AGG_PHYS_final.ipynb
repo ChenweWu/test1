{
 "cells": [
  {
   "cell_type": "code",
   "execution_count": 51,
   "metadata": {
    "colab": {},
    "colab_type": "code",
    "id": "GNaKE6JXsAVm"
   },
   "outputs": [],
   "source": [
    "import numpy as np\n",
    "import pandas as pd\n",
    "from matplotlib import pyplot as plt\n",
    "from collections import Counter\n",
    "import imblearn\n",
    "from sklearn.metrics import confusion_matrix\n",
    "from sklearn.metrics import plot_confusion_matrix\n",
    "from sklearn.datasets import make_classification\n",
    "from sklearn.linear_model import LogisticRegression\n",
    "from sklearn.model_selection import train_test_split\n",
    "from sklearn.metrics import precision_recall_curve\n",
    "from sklearn.metrics import f1_score\n",
    "from sklearn.metrics import auc\n",
    "from sklearn.model_selection import GridSearchCV\n",
    "from sklearn.ensemble import RandomForestClassifier\n",
    "from sklearn.model_selection import cross_validate\n",
    "from matplotlib import pyplot\n",
    "from sklearn.metrics import roc_curve\n",
    "from numpy import argmax"
   ]
  },
  {
   "cell_type": "markdown",
   "metadata": {},
   "source": [
    "# Data Preprocessing"
   ]
  },
  {
   "cell_type": "code",
   "execution_count": 2,
   "metadata": {
    "colab": {},
    "colab_type": "code",
    "id": "jqd3Hz_PtOBX"
   },
   "outputs": [],
   "source": [
    "#reading the data\n",
    "raw = pd.read_csv('cgfinal414.csv')"
   ]
  },
  {
   "cell_type": "code",
   "execution_count": 3,
   "metadata": {
    "colab": {},
    "colab_type": "code",
    "id": "O_BOEYNNtPiS"
   },
   "outputs": [],
   "source": [
    "raw = raw.drop(columns='id')"
   ]
  },
  {
   "cell_type": "code",
   "execution_count": 4,
   "metadata": {},
   "outputs": [
    {
     "data": {
      "text/plain": [
       "array(['StudyArm', 'Age', 'Gender', 'gradecat', 'incomecat', 'racecat',\n",
       "       'Living', 'relationship_cat', 'GI_Lung', 'TTC3', 'TTC5', 'TTC6a',\n",
       "       'TTC6b', 'TTC6c', 'TTC6d', 'distress', 'ImpairedPolypharmacy',\n",
       "       'cognition', 'nutrition', 'phy_performance', 'function',\n",
       "       'ImpairedCom', 'psychological', 'ImpairedMS', 'calcimpairedCom',\n",
       "       'cgdistress', 'cggad7', 'cgphq2', 'SF12total', 'AGG_PHYS',\n",
       "       'AGG_MENT'], dtype=object)"
      ]
     },
     "execution_count": 4,
     "metadata": {},
     "output_type": "execute_result"
    }
   ],
   "source": [
    "raw.columns.values"
   ]
  },
  {
   "cell_type": "code",
   "execution_count": null,
   "metadata": {},
   "outputs": [],
   "source": [
    "# basic data descriptions"
   ]
  },
  {
   "cell_type": "code",
   "execution_count": 5,
   "metadata": {},
   "outputs": [
    {
     "data": {
      "text/html": [
       "<div>\n",
       "<style scoped>\n",
       "    .dataframe tbody tr th:only-of-type {\n",
       "        vertical-align: middle;\n",
       "    }\n",
       "\n",
       "    .dataframe tbody tr th {\n",
       "        vertical-align: top;\n",
       "    }\n",
       "\n",
       "    .dataframe thead th {\n",
       "        text-align: right;\n",
       "    }\n",
       "</style>\n",
       "<table border=\"1\" class=\"dataframe\">\n",
       "  <thead>\n",
       "    <tr style=\"text-align: right;\">\n",
       "      <th></th>\n",
       "      <th>Age</th>\n",
       "      <th>Gender</th>\n",
       "      <th>gradecat</th>\n",
       "      <th>incomecat</th>\n",
       "      <th>racecat</th>\n",
       "      <th>Living</th>\n",
       "      <th>relationship_cat</th>\n",
       "      <th>GI_Lung</th>\n",
       "      <th>TTC3</th>\n",
       "      <th>TTC5</th>\n",
       "      <th>...</th>\n",
       "      <th>ImpairedCom</th>\n",
       "      <th>psychological</th>\n",
       "      <th>ImpairedMS</th>\n",
       "      <th>calcimpairedCom</th>\n",
       "      <th>cgdistress</th>\n",
       "      <th>cggad7</th>\n",
       "      <th>cgphq2</th>\n",
       "      <th>SF12total</th>\n",
       "      <th>AGG_PHYS</th>\n",
       "      <th>AGG_MENT</th>\n",
       "    </tr>\n",
       "  </thead>\n",
       "  <tbody>\n",
       "    <tr>\n",
       "      <th>count</th>\n",
       "      <td>411.000000</td>\n",
       "      <td>411.000000</td>\n",
       "      <td>411.000000</td>\n",
       "      <td>410.000000</td>\n",
       "      <td>411.000000</td>\n",
       "      <td>410.000000</td>\n",
       "      <td>411.000000</td>\n",
       "      <td>413.000000</td>\n",
       "      <td>413.000000</td>\n",
       "      <td>413.000000</td>\n",
       "      <td>...</td>\n",
       "      <td>414.000000</td>\n",
       "      <td>414.000000</td>\n",
       "      <td>414.000000</td>\n",
       "      <td>411.000000</td>\n",
       "      <td>407.000000</td>\n",
       "      <td>397.000000</td>\n",
       "      <td>397.000000</td>\n",
       "      <td>396.000000</td>\n",
       "      <td>396.000000</td>\n",
       "      <td>396.000000</td>\n",
       "    </tr>\n",
       "    <tr>\n",
       "      <th>mean</th>\n",
       "      <td>66.508516</td>\n",
       "      <td>0.245742</td>\n",
       "      <td>2.566910</td>\n",
       "      <td>1.829268</td>\n",
       "      <td>1.138686</td>\n",
       "      <td>1.558537</td>\n",
       "      <td>1.428224</td>\n",
       "      <td>2.237288</td>\n",
       "      <td>1.946731</td>\n",
       "      <td>0.682809</td>\n",
       "      <td>...</td>\n",
       "      <td>0.632850</td>\n",
       "      <td>0.270531</td>\n",
       "      <td>0.219807</td>\n",
       "      <td>0.394161</td>\n",
       "      <td>0.434889</td>\n",
       "      <td>0.244332</td>\n",
       "      <td>0.188917</td>\n",
       "      <td>97.962075</td>\n",
       "      <td>46.904228</td>\n",
       "      <td>51.057848</td>\n",
       "    </tr>\n",
       "    <tr>\n",
       "      <th>std</th>\n",
       "      <td>12.460545</td>\n",
       "      <td>0.431051</td>\n",
       "      <td>0.626469</td>\n",
       "      <td>0.733496</td>\n",
       "      <td>0.439220</td>\n",
       "      <td>0.530477</td>\n",
       "      <td>0.667417</td>\n",
       "      <td>0.825483</td>\n",
       "      <td>0.337136</td>\n",
       "      <td>0.465947</td>\n",
       "      <td>...</td>\n",
       "      <td>0.482611</td>\n",
       "      <td>0.444772</td>\n",
       "      <td>0.414617</td>\n",
       "      <td>0.489265</td>\n",
       "      <td>0.496353</td>\n",
       "      <td>0.430233</td>\n",
       "      <td>0.391937</td>\n",
       "      <td>14.181896</td>\n",
       "      <td>10.517327</td>\n",
       "      <td>9.820425</td>\n",
       "    </tr>\n",
       "    <tr>\n",
       "      <th>min</th>\n",
       "      <td>26.000000</td>\n",
       "      <td>0.000000</td>\n",
       "      <td>1.000000</td>\n",
       "      <td>1.000000</td>\n",
       "      <td>1.000000</td>\n",
       "      <td>1.000000</td>\n",
       "      <td>1.000000</td>\n",
       "      <td>1.000000</td>\n",
       "      <td>1.000000</td>\n",
       "      <td>0.000000</td>\n",
       "      <td>...</td>\n",
       "      <td>0.000000</td>\n",
       "      <td>0.000000</td>\n",
       "      <td>0.000000</td>\n",
       "      <td>0.000000</td>\n",
       "      <td>0.000000</td>\n",
       "      <td>0.000000</td>\n",
       "      <td>0.000000</td>\n",
       "      <td>55.783994</td>\n",
       "      <td>12.225440</td>\n",
       "      <td>16.156669</td>\n",
       "    </tr>\n",
       "    <tr>\n",
       "      <th>25%</th>\n",
       "      <td>58.000000</td>\n",
       "      <td>0.000000</td>\n",
       "      <td>2.000000</td>\n",
       "      <td>1.000000</td>\n",
       "      <td>1.000000</td>\n",
       "      <td>1.000000</td>\n",
       "      <td>1.000000</td>\n",
       "      <td>2.000000</td>\n",
       "      <td>2.000000</td>\n",
       "      <td>0.000000</td>\n",
       "      <td>...</td>\n",
       "      <td>0.000000</td>\n",
       "      <td>0.000000</td>\n",
       "      <td>0.000000</td>\n",
       "      <td>0.000000</td>\n",
       "      <td>0.000000</td>\n",
       "      <td>0.000000</td>\n",
       "      <td>0.000000</td>\n",
       "      <td>88.817898</td>\n",
       "      <td>39.249191</td>\n",
       "      <td>46.036325</td>\n",
       "    </tr>\n",
       "    <tr>\n",
       "      <th>50%</th>\n",
       "      <td>69.000000</td>\n",
       "      <td>0.000000</td>\n",
       "      <td>3.000000</td>\n",
       "      <td>2.000000</td>\n",
       "      <td>1.000000</td>\n",
       "      <td>2.000000</td>\n",
       "      <td>1.000000</td>\n",
       "      <td>2.000000</td>\n",
       "      <td>2.000000</td>\n",
       "      <td>1.000000</td>\n",
       "      <td>...</td>\n",
       "      <td>1.000000</td>\n",
       "      <td>0.000000</td>\n",
       "      <td>0.000000</td>\n",
       "      <td>0.000000</td>\n",
       "      <td>0.000000</td>\n",
       "      <td>0.000000</td>\n",
       "      <td>0.000000</td>\n",
       "      <td>102.186809</td>\n",
       "      <td>49.863908</td>\n",
       "      <td>54.085965</td>\n",
       "    </tr>\n",
       "    <tr>\n",
       "      <th>75%</th>\n",
       "      <td>75.000000</td>\n",
       "      <td>0.000000</td>\n",
       "      <td>3.000000</td>\n",
       "      <td>2.000000</td>\n",
       "      <td>1.000000</td>\n",
       "      <td>2.000000</td>\n",
       "      <td>2.000000</td>\n",
       "      <td>3.000000</td>\n",
       "      <td>2.000000</td>\n",
       "      <td>1.000000</td>\n",
       "      <td>...</td>\n",
       "      <td>1.000000</td>\n",
       "      <td>1.000000</td>\n",
       "      <td>0.000000</td>\n",
       "      <td>1.000000</td>\n",
       "      <td>1.000000</td>\n",
       "      <td>0.000000</td>\n",
       "      <td>0.000000</td>\n",
       "      <td>109.616743</td>\n",
       "      <td>55.187162</td>\n",
       "      <td>57.993023</td>\n",
       "    </tr>\n",
       "    <tr>\n",
       "      <th>max</th>\n",
       "      <td>92.000000</td>\n",
       "      <td>1.000000</td>\n",
       "      <td>3.000000</td>\n",
       "      <td>3.000000</td>\n",
       "      <td>3.000000</td>\n",
       "      <td>3.000000</td>\n",
       "      <td>3.000000</td>\n",
       "      <td>3.000000</td>\n",
       "      <td>3.000000</td>\n",
       "      <td>1.000000</td>\n",
       "      <td>...</td>\n",
       "      <td>1.000000</td>\n",
       "      <td>1.000000</td>\n",
       "      <td>1.000000</td>\n",
       "      <td>1.000000</td>\n",
       "      <td>1.000000</td>\n",
       "      <td>1.000000</td>\n",
       "      <td>1.000000</td>\n",
       "      <td>119.095521</td>\n",
       "      <td>64.279280</td>\n",
       "      <td>68.397655</td>\n",
       "    </tr>\n",
       "  </tbody>\n",
       "</table>\n",
       "<p>8 rows × 30 columns</p>\n",
       "</div>"
      ],
      "text/plain": [
       "              Age      Gender    gradecat   incomecat     racecat      Living  \\\n",
       "count  411.000000  411.000000  411.000000  410.000000  411.000000  410.000000   \n",
       "mean    66.508516    0.245742    2.566910    1.829268    1.138686    1.558537   \n",
       "std     12.460545    0.431051    0.626469    0.733496    0.439220    0.530477   \n",
       "min     26.000000    0.000000    1.000000    1.000000    1.000000    1.000000   \n",
       "25%     58.000000    0.000000    2.000000    1.000000    1.000000    1.000000   \n",
       "50%     69.000000    0.000000    3.000000    2.000000    1.000000    2.000000   \n",
       "75%     75.000000    0.000000    3.000000    2.000000    1.000000    2.000000   \n",
       "max     92.000000    1.000000    3.000000    3.000000    3.000000    3.000000   \n",
       "\n",
       "       relationship_cat     GI_Lung        TTC3        TTC5  ...  ImpairedCom  \\\n",
       "count        411.000000  413.000000  413.000000  413.000000  ...   414.000000   \n",
       "mean           1.428224    2.237288    1.946731    0.682809  ...     0.632850   \n",
       "std            0.667417    0.825483    0.337136    0.465947  ...     0.482611   \n",
       "min            1.000000    1.000000    1.000000    0.000000  ...     0.000000   \n",
       "25%            1.000000    2.000000    2.000000    0.000000  ...     0.000000   \n",
       "50%            1.000000    2.000000    2.000000    1.000000  ...     1.000000   \n",
       "75%            2.000000    3.000000    2.000000    1.000000  ...     1.000000   \n",
       "max            3.000000    3.000000    3.000000    1.000000  ...     1.000000   \n",
       "\n",
       "       psychological  ImpairedMS  calcimpairedCom  cgdistress      cggad7  \\\n",
       "count     414.000000  414.000000       411.000000  407.000000  397.000000   \n",
       "mean        0.270531    0.219807         0.394161    0.434889    0.244332   \n",
       "std         0.444772    0.414617         0.489265    0.496353    0.430233   \n",
       "min         0.000000    0.000000         0.000000    0.000000    0.000000   \n",
       "25%         0.000000    0.000000         0.000000    0.000000    0.000000   \n",
       "50%         0.000000    0.000000         0.000000    0.000000    0.000000   \n",
       "75%         1.000000    0.000000         1.000000    1.000000    0.000000   \n",
       "max         1.000000    1.000000         1.000000    1.000000    1.000000   \n",
       "\n",
       "           cgphq2   SF12total    AGG_PHYS    AGG_MENT  \n",
       "count  397.000000  396.000000  396.000000  396.000000  \n",
       "mean     0.188917   97.962075   46.904228   51.057848  \n",
       "std      0.391937   14.181896   10.517327    9.820425  \n",
       "min      0.000000   55.783994   12.225440   16.156669  \n",
       "25%      0.000000   88.817898   39.249191   46.036325  \n",
       "50%      0.000000  102.186809   49.863908   54.085965  \n",
       "75%      0.000000  109.616743   55.187162   57.993023  \n",
       "max      1.000000  119.095521   64.279280   68.397655  \n",
       "\n",
       "[8 rows x 30 columns]"
      ]
     },
     "execution_count": 5,
     "metadata": {},
     "output_type": "execute_result"
    }
   ],
   "source": [
    "raw.describe()"
   ]
  },
  {
   "cell_type": "code",
   "execution_count": 6,
   "metadata": {},
   "outputs": [
    {
     "data": {
      "text/plain": [
       "64.27928036899999"
      ]
     },
     "execution_count": 6,
     "metadata": {},
     "output_type": "execute_result"
    }
   ],
   "source": [
    "raw['AGG_PHYS'].max()"
   ]
  },
  {
   "cell_type": "code",
   "execution_count": 7,
   "metadata": {},
   "outputs": [
    {
     "data": {
      "text/plain": [
       "12.22543971"
      ]
     },
     "execution_count": 7,
     "metadata": {},
     "output_type": "execute_result"
    }
   ],
   "source": [
    "raw['AGG_PHYS'].min()"
   ]
  },
  {
   "cell_type": "code",
   "execution_count": 8,
   "metadata": {},
   "outputs": [
    {
     "data": {
      "text/plain": [
       "46.904227762376266"
      ]
     },
     "execution_count": 8,
     "metadata": {},
     "output_type": "execute_result"
    }
   ],
   "source": [
    "raw['AGG_PHYS'].mean()"
   ]
  },
  {
   "cell_type": "code",
   "execution_count": 9,
   "metadata": {},
   "outputs": [
    {
     "data": {
      "text/plain": [
       "49.8639078445"
      ]
     },
     "execution_count": 9,
     "metadata": {},
     "output_type": "execute_result"
    }
   ],
   "source": [
    "raw['AGG_PHYS'].median()"
   ]
  },
  {
   "cell_type": "code",
   "execution_count": 10,
   "metadata": {},
   "outputs": [
    {
     "data": {
      "text/plain": [
       "<matplotlib.axes._subplots.AxesSubplot at 0x210b8252908>"
      ]
     },
     "execution_count": 10,
     "metadata": {},
     "output_type": "execute_result"
    },
    {
     "data": {
      "image/png": "[encoded data removed]",
      "text/plain": [
       "<Figure size 432x288 with 1 Axes>"
      ]
     },
     "metadata": {
      "needs_background": "light"
     },
     "output_type": "display_data"
    }
   ],
   "source": [
    "raw['AGG_PHYS'].hist()"
   ]
  },
  {
   "cell_type": "code",
   "execution_count": 11,
   "metadata": {},
   "outputs": [
    {
     "data": {
      "image/png": "[encoded data removed]",
      "text/plain": [
       "<Figure size 432x288 with 1 Axes>"
      ]
     },
     "metadata": {
      "needs_background": "light"
     },
     "output_type": "display_data"
    }
   ],
   "source": [
    "raw.boxplot(column=['AGG_PHYS'], return_type='axes');"
   ]
  },
  {
   "cell_type": "code",
   "execution_count": 12,
   "metadata": {},
   "outputs": [],
   "source": [
    "#transforming the regression into classification\n",
    "raw['AGG_PHYS_CAT']=pd.qcut(raw['AGG_PHYS'], q=[0, .25, 1.], labels=[1, 0])"
   ]
  },
  {
   "cell_type": "code",
   "execution_count": 13,
   "metadata": {},
   "outputs": [
    {
     "data": {
      "text/html": [
       "<div>\n",
       "<style scoped>\n",
       "    .dataframe tbody tr th:only-of-type {\n",
       "        vertical-align: middle;\n",
       "    }\n",
       "\n",
       "    .dataframe tbody tr th {\n",
       "        vertical-align: top;\n",
       "    }\n",
       "\n",
       "    .dataframe thead th {\n",
       "        text-align: right;\n",
       "    }\n",
       "</style>\n",
       "<table border=\"1\" class=\"dataframe\">\n",
       "  <thead>\n",
       "    <tr style=\"text-align: right;\">\n",
       "      <th></th>\n",
       "      <th>StudyArm</th>\n",
       "      <th>Age</th>\n",
       "      <th>Gender</th>\n",
       "      <th>gradecat</th>\n",
       "      <th>incomecat</th>\n",
       "      <th>racecat</th>\n",
       "      <th>Living</th>\n",
       "      <th>relationship_cat</th>\n",
       "      <th>GI_Lung</th>\n",
       "      <th>TTC3</th>\n",
       "      <th>...</th>\n",
       "      <th>psychological</th>\n",
       "      <th>ImpairedMS</th>\n",
       "      <th>calcimpairedCom</th>\n",
       "      <th>cgdistress</th>\n",
       "      <th>cggad7</th>\n",
       "      <th>cgphq2</th>\n",
       "      <th>SF12total</th>\n",
       "      <th>AGG_PHYS</th>\n",
       "      <th>AGG_MENT</th>\n",
       "      <th>AGG_PHYS_CAT</th>\n",
       "    </tr>\n",
       "  </thead>\n",
       "  <tbody>\n",
       "    <tr>\n",
       "      <th>0</th>\n",
       "      <td>GA</td>\n",
       "      <td>79.0</td>\n",
       "      <td>0.0</td>\n",
       "      <td>3.0</td>\n",
       "      <td>2.0</td>\n",
       "      <td>1.0</td>\n",
       "      <td>2.0</td>\n",
       "      <td>3.0</td>\n",
       "      <td>1.0</td>\n",
       "      <td>1.0</td>\n",
       "      <td>...</td>\n",
       "      <td>0</td>\n",
       "      <td>1</td>\n",
       "      <td>1.0</td>\n",
       "      <td>0.0</td>\n",
       "      <td>0.0</td>\n",
       "      <td>0.0</td>\n",
       "      <td>97.621803</td>\n",
       "      <td>44.810278</td>\n",
       "      <td>52.811526</td>\n",
       "      <td>0</td>\n",
       "    </tr>\n",
       "    <tr>\n",
       "      <th>1</th>\n",
       "      <td>GA</td>\n",
       "      <td>72.0</td>\n",
       "      <td>0.0</td>\n",
       "      <td>2.0</td>\n",
       "      <td>1.0</td>\n",
       "      <td>2.0</td>\n",
       "      <td>2.0</td>\n",
       "      <td>1.0</td>\n",
       "      <td>1.0</td>\n",
       "      <td>2.0</td>\n",
       "      <td>...</td>\n",
       "      <td>0</td>\n",
       "      <td>0</td>\n",
       "      <td>0.0</td>\n",
       "      <td>1.0</td>\n",
       "      <td>0.0</td>\n",
       "      <td>0.0</td>\n",
       "      <td>103.724460</td>\n",
       "      <td>59.985234</td>\n",
       "      <td>43.739225</td>\n",
       "      <td>0</td>\n",
       "    </tr>\n",
       "    <tr>\n",
       "      <th>2</th>\n",
       "      <td>GA</td>\n",
       "      <td>44.0</td>\n",
       "      <td>1.0</td>\n",
       "      <td>3.0</td>\n",
       "      <td>2.0</td>\n",
       "      <td>2.0</td>\n",
       "      <td>2.0</td>\n",
       "      <td>2.0</td>\n",
       "      <td>1.0</td>\n",
       "      <td>2.0</td>\n",
       "      <td>...</td>\n",
       "      <td>0</td>\n",
       "      <td>0</td>\n",
       "      <td>0.0</td>\n",
       "      <td>1.0</td>\n",
       "      <td>0.0</td>\n",
       "      <td>0.0</td>\n",
       "      <td>110.634352</td>\n",
       "      <td>51.428792</td>\n",
       "      <td>59.205560</td>\n",
       "      <td>0</td>\n",
       "    </tr>\n",
       "    <tr>\n",
       "      <th>3</th>\n",
       "      <td>GA</td>\n",
       "      <td>83.0</td>\n",
       "      <td>0.0</td>\n",
       "      <td>2.0</td>\n",
       "      <td>1.0</td>\n",
       "      <td>1.0</td>\n",
       "      <td>2.0</td>\n",
       "      <td>1.0</td>\n",
       "      <td>2.0</td>\n",
       "      <td>2.0</td>\n",
       "      <td>...</td>\n",
       "      <td>0</td>\n",
       "      <td>0</td>\n",
       "      <td>1.0</td>\n",
       "      <td>0.0</td>\n",
       "      <td>0.0</td>\n",
       "      <td>0.0</td>\n",
       "      <td>105.251983</td>\n",
       "      <td>45.896473</td>\n",
       "      <td>59.355510</td>\n",
       "      <td>0</td>\n",
       "    </tr>\n",
       "    <tr>\n",
       "      <th>4</th>\n",
       "      <td>Control</td>\n",
       "      <td>51.0</td>\n",
       "      <td>0.0</td>\n",
       "      <td>3.0</td>\n",
       "      <td>2.0</td>\n",
       "      <td>1.0</td>\n",
       "      <td>2.0</td>\n",
       "      <td>3.0</td>\n",
       "      <td>3.0</td>\n",
       "      <td>2.0</td>\n",
       "      <td>...</td>\n",
       "      <td>0</td>\n",
       "      <td>1</td>\n",
       "      <td>0.0</td>\n",
       "      <td>0.0</td>\n",
       "      <td>0.0</td>\n",
       "      <td>0.0</td>\n",
       "      <td>114.821701</td>\n",
       "      <td>57.760960</td>\n",
       "      <td>57.060741</td>\n",
       "      <td>0</td>\n",
       "    </tr>\n",
       "    <tr>\n",
       "      <th>...</th>\n",
       "      <td>...</td>\n",
       "      <td>...</td>\n",
       "      <td>...</td>\n",
       "      <td>...</td>\n",
       "      <td>...</td>\n",
       "      <td>...</td>\n",
       "      <td>...</td>\n",
       "      <td>...</td>\n",
       "      <td>...</td>\n",
       "      <td>...</td>\n",
       "      <td>...</td>\n",
       "      <td>...</td>\n",
       "      <td>...</td>\n",
       "      <td>...</td>\n",
       "      <td>...</td>\n",
       "      <td>...</td>\n",
       "      <td>...</td>\n",
       "      <td>...</td>\n",
       "      <td>...</td>\n",
       "      <td>...</td>\n",
       "      <td>...</td>\n",
       "    </tr>\n",
       "    <tr>\n",
       "      <th>409</th>\n",
       "      <td>GA</td>\n",
       "      <td>75.0</td>\n",
       "      <td>1.0</td>\n",
       "      <td>3.0</td>\n",
       "      <td>2.0</td>\n",
       "      <td>1.0</td>\n",
       "      <td>1.0</td>\n",
       "      <td>1.0</td>\n",
       "      <td>2.0</td>\n",
       "      <td>2.0</td>\n",
       "      <td>...</td>\n",
       "      <td>1</td>\n",
       "      <td>0</td>\n",
       "      <td>1.0</td>\n",
       "      <td>1.0</td>\n",
       "      <td>0.0</td>\n",
       "      <td>0.0</td>\n",
       "      <td>102.702713</td>\n",
       "      <td>58.715992</td>\n",
       "      <td>43.986721</td>\n",
       "      <td>0</td>\n",
       "    </tr>\n",
       "    <tr>\n",
       "      <th>410</th>\n",
       "      <td>GA</td>\n",
       "      <td>71.0</td>\n",
       "      <td>0.0</td>\n",
       "      <td>3.0</td>\n",
       "      <td>2.0</td>\n",
       "      <td>1.0</td>\n",
       "      <td>1.0</td>\n",
       "      <td>1.0</td>\n",
       "      <td>3.0</td>\n",
       "      <td>2.0</td>\n",
       "      <td>...</td>\n",
       "      <td>0</td>\n",
       "      <td>0</td>\n",
       "      <td>0.0</td>\n",
       "      <td>1.0</td>\n",
       "      <td>1.0</td>\n",
       "      <td>0.0</td>\n",
       "      <td>87.114771</td>\n",
       "      <td>33.603316</td>\n",
       "      <td>53.511456</td>\n",
       "      <td>1</td>\n",
       "    </tr>\n",
       "    <tr>\n",
       "      <th>411</th>\n",
       "      <td>GA</td>\n",
       "      <td>75.0</td>\n",
       "      <td>0.0</td>\n",
       "      <td>2.0</td>\n",
       "      <td>2.0</td>\n",
       "      <td>1.0</td>\n",
       "      <td>2.0</td>\n",
       "      <td>1.0</td>\n",
       "      <td>1.0</td>\n",
       "      <td>2.0</td>\n",
       "      <td>...</td>\n",
       "      <td>0</td>\n",
       "      <td>0</td>\n",
       "      <td>1.0</td>\n",
       "      <td>1.0</td>\n",
       "      <td>1.0</td>\n",
       "      <td>1.0</td>\n",
       "      <td>55.783994</td>\n",
       "      <td>15.928499</td>\n",
       "      <td>39.855495</td>\n",
       "      <td>1</td>\n",
       "    </tr>\n",
       "    <tr>\n",
       "      <th>412</th>\n",
       "      <td>GA</td>\n",
       "      <td>67.0</td>\n",
       "      <td>0.0</td>\n",
       "      <td>2.0</td>\n",
       "      <td>2.0</td>\n",
       "      <td>1.0</td>\n",
       "      <td>1.0</td>\n",
       "      <td>1.0</td>\n",
       "      <td>2.0</td>\n",
       "      <td>2.0</td>\n",
       "      <td>...</td>\n",
       "      <td>1</td>\n",
       "      <td>0</td>\n",
       "      <td>1.0</td>\n",
       "      <td>0.0</td>\n",
       "      <td>1.0</td>\n",
       "      <td>0.0</td>\n",
       "      <td>95.192964</td>\n",
       "      <td>47.181300</td>\n",
       "      <td>48.011665</td>\n",
       "      <td>0</td>\n",
       "    </tr>\n",
       "    <tr>\n",
       "      <th>413</th>\n",
       "      <td>Control</td>\n",
       "      <td>75.0</td>\n",
       "      <td>0.0</td>\n",
       "      <td>3.0</td>\n",
       "      <td>1.0</td>\n",
       "      <td>1.0</td>\n",
       "      <td>2.0</td>\n",
       "      <td>1.0</td>\n",
       "      <td>1.0</td>\n",
       "      <td>2.0</td>\n",
       "      <td>...</td>\n",
       "      <td>0</td>\n",
       "      <td>0</td>\n",
       "      <td>0.0</td>\n",
       "      <td>0.0</td>\n",
       "      <td>0.0</td>\n",
       "      <td>0.0</td>\n",
       "      <td>112.300939</td>\n",
       "      <td>55.070839</td>\n",
       "      <td>57.230100</td>\n",
       "      <td>0</td>\n",
       "    </tr>\n",
       "  </tbody>\n",
       "</table>\n",
       "<p>414 rows × 32 columns</p>\n",
       "</div>"
      ],
      "text/plain": [
       "    StudyArm   Age  Gender  gradecat  incomecat  racecat  Living  \\\n",
       "0         GA  79.0     0.0       3.0        2.0      1.0     2.0   \n",
       "1         GA  72.0     0.0       2.0        1.0      2.0     2.0   \n",
       "2         GA  44.0     1.0       3.0        2.0      2.0     2.0   \n",
       "3         GA  83.0     0.0       2.0        1.0      1.0     2.0   \n",
       "4    Control  51.0     0.0       3.0        2.0      1.0     2.0   \n",
       "..       ...   ...     ...       ...        ...      ...     ...   \n",
       "409       GA  75.0     1.0       3.0        2.0      1.0     1.0   \n",
       "410       GA  71.0     0.0       3.0        2.0      1.0     1.0   \n",
       "411       GA  75.0     0.0       2.0        2.0      1.0     2.0   \n",
       "412       GA  67.0     0.0       2.0        2.0      1.0     1.0   \n",
       "413  Control  75.0     0.0       3.0        1.0      1.0     2.0   \n",
       "\n",
       "     relationship_cat  GI_Lung  TTC3  ...  psychological  ImpairedMS  \\\n",
       "0                 3.0      1.0   1.0  ...              0           1   \n",
       "1                 1.0      1.0   2.0  ...              0           0   \n",
       "2                 2.0      1.0   2.0  ...              0           0   \n",
       "3                 1.0      2.0   2.0  ...              0           0   \n",
       "4                 3.0      3.0   2.0  ...              0           1   \n",
       "..                ...      ...   ...  ...            ...         ...   \n",
       "409               1.0      2.0   2.0  ...              1           0   \n",
       "410               1.0      3.0   2.0  ...              0           0   \n",
       "411               1.0      1.0   2.0  ...              0           0   \n",
       "412               1.0      2.0   2.0  ...              1           0   \n",
       "413               1.0      1.0   2.0  ...              0           0   \n",
       "\n",
       "     calcimpairedCom  cgdistress  cggad7  cgphq2   SF12total   AGG_PHYS  \\\n",
       "0                1.0         0.0     0.0     0.0   97.621803  44.810278   \n",
       "1                0.0         1.0     0.0     0.0  103.724460  59.985234   \n",
       "2                0.0         1.0     0.0     0.0  110.634352  51.428792   \n",
       "3                1.0         0.0     0.0     0.0  105.251983  45.896473   \n",
       "4                0.0         0.0     0.0     0.0  114.821701  57.760960   \n",
       "..               ...         ...     ...     ...         ...        ...   \n",
       "409              1.0         1.0     0.0     0.0  102.702713  58.715992   \n",
       "410              0.0         1.0     1.0     0.0   87.114771  33.603316   \n",
       "411              1.0         1.0     1.0     1.0   55.783994  15.928499   \n",
       "412              1.0         0.0     1.0     0.0   95.192964  47.181300   \n",
       "413              0.0         0.0     0.0     0.0  112.300939  55.070839   \n",
       "\n",
       "      AGG_MENT  AGG_PHYS_CAT  \n",
       "0    52.811526             0  \n",
       "1    43.739225             0  \n",
       "2    59.205560             0  \n",
       "3    59.355510             0  \n",
       "4    57.060741             0  \n",
       "..         ...           ...  \n",
       "409  43.986721             0  \n",
       "410  53.511456             1  \n",
       "411  39.855495             1  \n",
       "412  48.011665             0  \n",
       "413  57.230100             0  \n",
       "\n",
       "[414 rows x 32 columns]"
      ]
     },
     "execution_count": 13,
     "metadata": {},
     "output_type": "execute_result"
    }
   ],
   "source": [
    "raw"
   ]
  },
  {
   "cell_type": "code",
   "execution_count": 14,
   "metadata": {
    "colab": {},
    "colab_type": "code",
    "id": "z_2QO2jbwSpc"
   },
   "outputs": [],
   "source": [
    "raw1 = raw.dropna()"
   ]
  },
  {
   "cell_type": "code",
   "execution_count": 15,
   "metadata": {
    "colab": {},
    "colab_type": "code",
    "id": "olta3KdowZ5y"
   },
   "outputs": [],
   "source": [
    "df_cgd=raw1"
   ]
  },
  {
   "cell_type": "code",
   "execution_count": 16,
   "metadata": {
    "colab": {
     "base_uri": "https://localhost:8080/",
     "height": 439
    },
    "colab_type": "code",
    "id": "qpoNEIqhwb6p",
    "outputId": "6316d8ad-77f6-4e0e-d0b5-f43028e1a58d"
   },
   "outputs": [],
   "source": [
    "\n",
    "one_hot = pd.get_dummies(raw1['StudyArm'])\n",
    "# Drop column B as it is now encoded\n",
    "df_cgd = df_cgd.drop('StudyArm',axis = 1)\n",
    "# Join the encoded df\n",
    "df_cgd = df_cgd.join(one_hot)\n",
    "\n",
    "one_hot = pd.get_dummies(df_cgd['incomecat'],prefix='incomecat')\n",
    "# Drop column B as it is now encoded\n",
    "df_cgd = df_cgd.drop('incomecat',axis = 1)\n",
    "# Join the encoded df\n",
    "df_cgd = df_cgd.join(one_hot)\n",
    "df_cgd = df_cgd.drop('incomecat_3.0',axis = 1)\n",
    "one_hot = pd.get_dummies(df_cgd['gradecat'],prefix='gradecat')\n",
    "# Drop column B as it is now encoded\n",
    "df_cgd = df_cgd.drop('gradecat',axis = 1)\n",
    "# Join the encoded df\n",
    "df_cgd = df_cgd.join(one_hot)\n",
    "\n",
    "df_cgd = df_cgd.drop('gradecat_3.0',axis = 1)\n",
    "one_hot = pd.get_dummies(df_cgd['relationship_cat'],prefix='relationship_cat')\n",
    "# Drop column B as it is now encoded\n",
    "df_cgd = df_cgd.drop('relationship_cat',axis = 1)\n",
    "# Join the encoded df\n",
    "df_cgd = df_cgd.join(one_hot)\n",
    "\n",
    "df_cgd = df_cgd.drop('relationship_cat_3.0',axis = 1)\n",
    "one_hot = pd.get_dummies(df_cgd['racecat'],prefix='race_cat')\n",
    "# Drop column B as it is now encoded\n",
    "df_cgd = df_cgd.drop('racecat',axis = 1)\n",
    "# Join the encoded df\n",
    "df_cgd = df_cgd.join(one_hot)\n",
    "\n",
    "df_cgd = df_cgd.drop('race_cat_3.0',axis = 1)\n",
    "one_hot = pd.get_dummies(df_cgd['TTC3'],prefix='TTC3')\n",
    "# Drop column B as it is now encoded\n",
    "df_cgd = df_cgd.drop('TTC3',axis = 1)\n",
    "# Join the encoded df\n",
    "df_cgd = df_cgd.join(one_hot)\n",
    "\n",
    "df_cgd = df_cgd.drop('TTC3_3.0',axis = 1)\n",
    "one_hot = pd.get_dummies(df_cgd['GI_Lung'],prefix='GI_Lung')\n",
    "# Drop column B as it is now encoded\n",
    "df_cgd = df_cgd.drop('GI_Lung',axis = 1)\n",
    "# Join the encoded df\n",
    "df_cgd = df_cgd.join(one_hot)\n",
    "\n",
    "df_cgd = df_cgd.drop('GI_Lung_3.0',axis = 1)"
   ]
  },
  {
   "cell_type": "code",
   "execution_count": 17,
   "metadata": {},
   "outputs": [],
   "source": [
    "raw1=df_cgd"
   ]
  },
  {
   "cell_type": "code",
   "execution_count": 18,
   "metadata": {
    "scrolled": true
   },
   "outputs": [
    {
     "data": {
      "text/plain": [
       "array(['Age', 'Gender', 'Living', 'TTC5', 'TTC6a', 'TTC6b', 'TTC6c',\n",
       "       'TTC6d', 'distress', 'ImpairedPolypharmacy', 'cognition',\n",
       "       'nutrition', 'phy_performance', 'function', 'ImpairedCom',\n",
       "       'psychological', 'ImpairedMS', 'calcimpairedCom', 'cgdistress',\n",
       "       'cggad7', 'cgphq2', 'SF12total', 'AGG_PHYS', 'AGG_MENT',\n",
       "       'AGG_PHYS_CAT', 'Control', 'GA', 'incomecat_1.0', 'incomecat_2.0',\n",
       "       'gradecat_1.0', 'gradecat_2.0', 'relationship_cat_1.0',\n",
       "       'relationship_cat_2.0', 'race_cat_1.0', 'race_cat_2.0', 'TTC3_1.0',\n",
       "       'TTC3_2.0', 'GI_Lung_1.0', 'GI_Lung_2.0'], dtype=object)"
      ]
     },
     "execution_count": 18,
     "metadata": {},
     "output_type": "execute_result"
    }
   ],
   "source": [
    "raw1.columns.values"
   ]
  },
  {
   "cell_type": "code",
   "execution_count": 19,
   "metadata": {
    "colab": {},
    "colab_type": "code",
    "id": "kiKyE0B4wqjE"
   },
   "outputs": [],
   "source": [
    "from sklearn.model_selection import train_test_split"
   ]
  },
  {
   "cell_type": "code",
   "execution_count": 20,
   "metadata": {},
   "outputs": [],
   "source": [
    "#select features\n",
    "X=raw1[['Age', 'Gender', 'Living', 'TTC5', 'TTC6a', 'TTC6b', 'TTC6c',\n",
    "       'TTC6d', 'distress', 'ImpairedPolypharmacy', 'cognition',\n",
    "       'nutrition', 'phy_performance', 'function', 'ImpairedCom',\n",
    "       'psychological', 'ImpairedMS', 'calcimpairedCom',\n",
    "       'Control', 'incomecat_1.0', 'incomecat_2.0',\n",
    "       'gradecat_1.0', 'gradecat_2.0', 'relationship_cat_1.0',\n",
    "       'relationship_cat_2.0', 'race_cat_1.0', 'race_cat_2.0', 'TTC3_1.0',\n",
    "       'TTC3_2.0', 'GI_Lung_1.0', 'GI_Lung_2.0']]\n",
    "y=raw1['AGG_PHYS_CAT']"
   ]
  },
  {
   "cell_type": "code",
   "execution_count": 21,
   "metadata": {
    "colab": {},
    "colab_type": "code",
    "id": "Nl5_vz7kwuf9"
   },
   "outputs": [],
   "source": [
    "#split data\n",
    "X_train, X_test, y_train, y_test = train_test_split(X, y, test_size=0.25, random_state=22,stratify=y)"
   ]
  },
  {
   "cell_type": "code",
   "execution_count": 22,
   "metadata": {},
   "outputs": [
    {
     "name": "stdout",
     "output_type": "stream",
     "text": [
      "[(0, 214), (1, 71)]\n",
      "[(0, 71), (1, 24)]\n"
     ]
    }
   ],
   "source": [
    "X_train.shape\n",
    "print(sorted(Counter(y_train).items()))\n",
    "\n",
    "print(sorted(Counter(y_test).items()))"
   ]
  },
  {
   "cell_type": "code",
   "execution_count": 23,
   "metadata": {},
   "outputs": [
    {
     "name": "stdout",
     "output_type": "stream",
     "text": [
      "[(0, 214), (1, 71)]\n",
      "[(0, 71), (1, 24)]\n"
     ]
    }
   ],
   "source": [
    "X_train.shape\n",
    "print(sorted(Counter(y_train).items()))\n",
    "\n",
    "print(sorted(Counter(y_test).items()))"
   ]
  },
  {
   "cell_type": "code",
   "execution_count": 24,
   "metadata": {},
   "outputs": [
    {
     "data": {
      "text/plain": [
       "(95, 31)"
      ]
     },
     "execution_count": 24,
     "metadata": {},
     "output_type": "execute_result"
    }
   ],
   "source": [
    "X_test.shape"
   ]
  },
  {
   "cell_type": "code",
   "execution_count": 25,
   "metadata": {},
   "outputs": [
    {
     "data": {
      "text/plain": [
       "(95,)"
      ]
     },
     "execution_count": 25,
     "metadata": {},
     "output_type": "execute_result"
    }
   ],
   "source": [
    "y_test.shape"
   ]
  },
  {
   "cell_type": "code",
   "execution_count": 26,
   "metadata": {},
   "outputs": [
    {
     "data": {
      "text/html": [
       "<div>\n",
       "<style scoped>\n",
       "    .dataframe tbody tr th:only-of-type {\n",
       "        vertical-align: middle;\n",
       "    }\n",
       "\n",
       "    .dataframe tbody tr th {\n",
       "        vertical-align: top;\n",
       "    }\n",
       "\n",
       "    .dataframe thead th {\n",
       "        text-align: right;\n",
       "    }\n",
       "</style>\n",
       "<table border=\"1\" class=\"dataframe\">\n",
       "  <thead>\n",
       "    <tr style=\"text-align: right;\">\n",
       "      <th></th>\n",
       "      <th>Age</th>\n",
       "      <th>Gender</th>\n",
       "      <th>Living</th>\n",
       "      <th>TTC5</th>\n",
       "      <th>TTC6a</th>\n",
       "      <th>TTC6b</th>\n",
       "      <th>TTC6c</th>\n",
       "      <th>TTC6d</th>\n",
       "      <th>distress</th>\n",
       "      <th>ImpairedPolypharmacy</th>\n",
       "      <th>...</th>\n",
       "      <th>gradecat_1.0</th>\n",
       "      <th>gradecat_2.0</th>\n",
       "      <th>relationship_cat_1.0</th>\n",
       "      <th>relationship_cat_2.0</th>\n",
       "      <th>race_cat_1.0</th>\n",
       "      <th>race_cat_2.0</th>\n",
       "      <th>TTC3_1.0</th>\n",
       "      <th>TTC3_2.0</th>\n",
       "      <th>GI_Lung_1.0</th>\n",
       "      <th>GI_Lung_2.0</th>\n",
       "    </tr>\n",
       "  </thead>\n",
       "  <tbody>\n",
       "    <tr>\n",
       "      <th>379</th>\n",
       "      <td>58.0</td>\n",
       "      <td>0.0</td>\n",
       "      <td>2.0</td>\n",
       "      <td>0.0</td>\n",
       "      <td>0.0</td>\n",
       "      <td>1.0</td>\n",
       "      <td>1.0</td>\n",
       "      <td>0.0</td>\n",
       "      <td>0.0</td>\n",
       "      <td>1</td>\n",
       "      <td>...</td>\n",
       "      <td>0</td>\n",
       "      <td>0</td>\n",
       "      <td>0</td>\n",
       "      <td>0</td>\n",
       "      <td>1</td>\n",
       "      <td>0</td>\n",
       "      <td>0</td>\n",
       "      <td>1</td>\n",
       "      <td>0</td>\n",
       "      <td>0</td>\n",
       "    </tr>\n",
       "    <tr>\n",
       "      <th>309</th>\n",
       "      <td>59.0</td>\n",
       "      <td>0.0</td>\n",
       "      <td>2.0</td>\n",
       "      <td>0.0</td>\n",
       "      <td>1.0</td>\n",
       "      <td>0.0</td>\n",
       "      <td>0.0</td>\n",
       "      <td>0.0</td>\n",
       "      <td>0.0</td>\n",
       "      <td>1</td>\n",
       "      <td>...</td>\n",
       "      <td>0</td>\n",
       "      <td>1</td>\n",
       "      <td>0</td>\n",
       "      <td>1</td>\n",
       "      <td>0</td>\n",
       "      <td>0</td>\n",
       "      <td>0</td>\n",
       "      <td>1</td>\n",
       "      <td>1</td>\n",
       "      <td>0</td>\n",
       "    </tr>\n",
       "    <tr>\n",
       "      <th>281</th>\n",
       "      <td>76.0</td>\n",
       "      <td>0.0</td>\n",
       "      <td>2.0</td>\n",
       "      <td>0.0</td>\n",
       "      <td>0.0</td>\n",
       "      <td>1.0</td>\n",
       "      <td>1.0</td>\n",
       "      <td>0.0</td>\n",
       "      <td>0.0</td>\n",
       "      <td>1</td>\n",
       "      <td>...</td>\n",
       "      <td>0</td>\n",
       "      <td>1</td>\n",
       "      <td>1</td>\n",
       "      <td>0</td>\n",
       "      <td>0</td>\n",
       "      <td>1</td>\n",
       "      <td>0</td>\n",
       "      <td>1</td>\n",
       "      <td>0</td>\n",
       "      <td>0</td>\n",
       "    </tr>\n",
       "    <tr>\n",
       "      <th>170</th>\n",
       "      <td>82.0</td>\n",
       "      <td>0.0</td>\n",
       "      <td>2.0</td>\n",
       "      <td>1.0</td>\n",
       "      <td>1.0</td>\n",
       "      <td>0.0</td>\n",
       "      <td>0.0</td>\n",
       "      <td>0.0</td>\n",
       "      <td>0.0</td>\n",
       "      <td>1</td>\n",
       "      <td>...</td>\n",
       "      <td>0</td>\n",
       "      <td>0</td>\n",
       "      <td>1</td>\n",
       "      <td>0</td>\n",
       "      <td>1</td>\n",
       "      <td>0</td>\n",
       "      <td>0</td>\n",
       "      <td>1</td>\n",
       "      <td>0</td>\n",
       "      <td>0</td>\n",
       "    </tr>\n",
       "    <tr>\n",
       "      <th>293</th>\n",
       "      <td>64.0</td>\n",
       "      <td>0.0</td>\n",
       "      <td>1.0</td>\n",
       "      <td>1.0</td>\n",
       "      <td>1.0</td>\n",
       "      <td>0.0</td>\n",
       "      <td>0.0</td>\n",
       "      <td>0.0</td>\n",
       "      <td>1.0</td>\n",
       "      <td>1</td>\n",
       "      <td>...</td>\n",
       "      <td>0</td>\n",
       "      <td>1</td>\n",
       "      <td>0</td>\n",
       "      <td>1</td>\n",
       "      <td>1</td>\n",
       "      <td>0</td>\n",
       "      <td>0</td>\n",
       "      <td>1</td>\n",
       "      <td>0</td>\n",
       "      <td>1</td>\n",
       "    </tr>\n",
       "    <tr>\n",
       "      <th>...</th>\n",
       "      <td>...</td>\n",
       "      <td>...</td>\n",
       "      <td>...</td>\n",
       "      <td>...</td>\n",
       "      <td>...</td>\n",
       "      <td>...</td>\n",
       "      <td>...</td>\n",
       "      <td>...</td>\n",
       "      <td>...</td>\n",
       "      <td>...</td>\n",
       "      <td>...</td>\n",
       "      <td>...</td>\n",
       "      <td>...</td>\n",
       "      <td>...</td>\n",
       "      <td>...</td>\n",
       "      <td>...</td>\n",
       "      <td>...</td>\n",
       "      <td>...</td>\n",
       "      <td>...</td>\n",
       "      <td>...</td>\n",
       "      <td>...</td>\n",
       "    </tr>\n",
       "    <tr>\n",
       "      <th>200</th>\n",
       "      <td>85.0</td>\n",
       "      <td>1.0</td>\n",
       "      <td>2.0</td>\n",
       "      <td>0.0</td>\n",
       "      <td>0.0</td>\n",
       "      <td>0.0</td>\n",
       "      <td>1.0</td>\n",
       "      <td>0.0</td>\n",
       "      <td>0.0</td>\n",
       "      <td>1</td>\n",
       "      <td>...</td>\n",
       "      <td>0</td>\n",
       "      <td>0</td>\n",
       "      <td>1</td>\n",
       "      <td>0</td>\n",
       "      <td>1</td>\n",
       "      <td>0</td>\n",
       "      <td>0</td>\n",
       "      <td>1</td>\n",
       "      <td>0</td>\n",
       "      <td>1</td>\n",
       "    </tr>\n",
       "    <tr>\n",
       "      <th>216</th>\n",
       "      <td>57.0</td>\n",
       "      <td>0.0</td>\n",
       "      <td>3.0</td>\n",
       "      <td>1.0</td>\n",
       "      <td>0.0</td>\n",
       "      <td>0.0</td>\n",
       "      <td>0.0</td>\n",
       "      <td>0.0</td>\n",
       "      <td>1.0</td>\n",
       "      <td>1</td>\n",
       "      <td>...</td>\n",
       "      <td>0</td>\n",
       "      <td>1</td>\n",
       "      <td>1</td>\n",
       "      <td>0</td>\n",
       "      <td>1</td>\n",
       "      <td>0</td>\n",
       "      <td>0</td>\n",
       "      <td>1</td>\n",
       "      <td>0</td>\n",
       "      <td>1</td>\n",
       "    </tr>\n",
       "    <tr>\n",
       "      <th>179</th>\n",
       "      <td>60.0</td>\n",
       "      <td>0.0</td>\n",
       "      <td>1.0</td>\n",
       "      <td>0.0</td>\n",
       "      <td>1.0</td>\n",
       "      <td>0.0</td>\n",
       "      <td>0.0</td>\n",
       "      <td>0.0</td>\n",
       "      <td>0.0</td>\n",
       "      <td>1</td>\n",
       "      <td>...</td>\n",
       "      <td>1</td>\n",
       "      <td>0</td>\n",
       "      <td>0</td>\n",
       "      <td>0</td>\n",
       "      <td>1</td>\n",
       "      <td>0</td>\n",
       "      <td>0</td>\n",
       "      <td>1</td>\n",
       "      <td>0</td>\n",
       "      <td>1</td>\n",
       "    </tr>\n",
       "    <tr>\n",
       "      <th>117</th>\n",
       "      <td>72.0</td>\n",
       "      <td>0.0</td>\n",
       "      <td>1.0</td>\n",
       "      <td>0.0</td>\n",
       "      <td>1.0</td>\n",
       "      <td>0.0</td>\n",
       "      <td>0.0</td>\n",
       "      <td>0.0</td>\n",
       "      <td>0.0</td>\n",
       "      <td>0</td>\n",
       "      <td>...</td>\n",
       "      <td>0</td>\n",
       "      <td>0</td>\n",
       "      <td>1</td>\n",
       "      <td>0</td>\n",
       "      <td>1</td>\n",
       "      <td>0</td>\n",
       "      <td>0</td>\n",
       "      <td>1</td>\n",
       "      <td>0</td>\n",
       "      <td>1</td>\n",
       "    </tr>\n",
       "    <tr>\n",
       "      <th>166</th>\n",
       "      <td>53.0</td>\n",
       "      <td>0.0</td>\n",
       "      <td>2.0</td>\n",
       "      <td>1.0</td>\n",
       "      <td>0.0</td>\n",
       "      <td>0.0</td>\n",
       "      <td>0.0</td>\n",
       "      <td>0.0</td>\n",
       "      <td>0.0</td>\n",
       "      <td>1</td>\n",
       "      <td>...</td>\n",
       "      <td>0</td>\n",
       "      <td>0</td>\n",
       "      <td>0</td>\n",
       "      <td>1</td>\n",
       "      <td>1</td>\n",
       "      <td>0</td>\n",
       "      <td>0</td>\n",
       "      <td>1</td>\n",
       "      <td>1</td>\n",
       "      <td>0</td>\n",
       "    </tr>\n",
       "  </tbody>\n",
       "</table>\n",
       "<p>95 rows × 31 columns</p>\n",
       "</div>"
      ],
      "text/plain": [
       "      Age  Gender  Living  TTC5  TTC6a  TTC6b  TTC6c  TTC6d  distress  \\\n",
       "379  58.0     0.0     2.0   0.0    0.0    1.0    1.0    0.0       0.0   \n",
       "309  59.0     0.0     2.0   0.0    1.0    0.0    0.0    0.0       0.0   \n",
       "281  76.0     0.0     2.0   0.0    0.0    1.0    1.0    0.0       0.0   \n",
       "170  82.0     0.0     2.0   1.0    1.0    0.0    0.0    0.0       0.0   \n",
       "293  64.0     0.0     1.0   1.0    1.0    0.0    0.0    0.0       1.0   \n",
       "..    ...     ...     ...   ...    ...    ...    ...    ...       ...   \n",
       "200  85.0     1.0     2.0   0.0    0.0    0.0    1.0    0.0       0.0   \n",
       "216  57.0     0.0     3.0   1.0    0.0    0.0    0.0    0.0       1.0   \n",
       "179  60.0     0.0     1.0   0.0    1.0    0.0    0.0    0.0       0.0   \n",
       "117  72.0     0.0     1.0   0.0    1.0    0.0    0.0    0.0       0.0   \n",
       "166  53.0     0.0     2.0   1.0    0.0    0.0    0.0    0.0       0.0   \n",
       "\n",
       "     ImpairedPolypharmacy  ...  gradecat_1.0  gradecat_2.0  \\\n",
       "379                     1  ...             0             0   \n",
       "309                     1  ...             0             1   \n",
       "281                     1  ...             0             1   \n",
       "170                     1  ...             0             0   \n",
       "293                     1  ...             0             1   \n",
       "..                    ...  ...           ...           ...   \n",
       "200                     1  ...             0             0   \n",
       "216                     1  ...             0             1   \n",
       "179                     1  ...             1             0   \n",
       "117                     0  ...             0             0   \n",
       "166                     1  ...             0             0   \n",
       "\n",
       "     relationship_cat_1.0  relationship_cat_2.0  race_cat_1.0  race_cat_2.0  \\\n",
       "379                     0                     0             1             0   \n",
       "309                     0                     1             0             0   \n",
       "281                     1                     0             0             1   \n",
       "170                     1                     0             1             0   \n",
       "293                     0                     1             1             0   \n",
       "..                    ...                   ...           ...           ...   \n",
       "200                     1                     0             1             0   \n",
       "216                     1                     0             1             0   \n",
       "179                     0                     0             1             0   \n",
       "117                     1                     0             1             0   \n",
       "166                     0                     1             1             0   \n",
       "\n",
       "     TTC3_1.0  TTC3_2.0  GI_Lung_1.0  GI_Lung_2.0  \n",
       "379         0         1            0            0  \n",
       "309         0         1            1            0  \n",
       "281         0         1            0            0  \n",
       "170         0         1            0            0  \n",
       "293         0         1            0            1  \n",
       "..        ...       ...          ...          ...  \n",
       "200         0         1            0            1  \n",
       "216         0         1            0            1  \n",
       "179         0         1            0            1  \n",
       "117         0         1            0            1  \n",
       "166         0         1            1            0  \n",
       "\n",
       "[95 rows x 31 columns]"
      ]
     },
     "execution_count": 26,
     "metadata": {},
     "output_type": "execute_result"
    }
   ],
   "source": [
    "X_test"
   ]
  },
  {
   "cell_type": "code",
   "execution_count": 124,
   "metadata": {},
   "outputs": [
    {
     "data": {
      "text/plain": [
       "Text(0.5, 1.0, 'Class Distributions \\n (0: Negative || 1: Positive)')"
      ]
     },
     "execution_count": 124,
     "metadata": {},
     "output_type": "execute_result"
    },
    {
     "data": {
      "image/png": "[encoded data removed]",
      "text/plain": [
       "<Figure size 432x288 with 1 Axes>"
      ]
     },
     "metadata": {
      "needs_background": "light"
     },
     "output_type": "display_data"
    }
   ],
   "source": [
    "import seaborn as sns\n",
    "colors = [\"#0101DF\", \"#DF0101\"]\n",
    "\n",
    "sns.countplot('AGG_PHYS_CAT', data=raw1, palette=colors)\n",
    "plt.title('Class Distributions \\n (0: Negative || 1: Positive)', fontsize=14)"
   ]
  },
  {
   "cell_type": "code",
   "execution_count": 125,
   "metadata": {},
   "outputs": [
    {
     "data": {
      "text/plain": [
       "(380,)"
      ]
     },
     "execution_count": 125,
     "metadata": {},
     "output_type": "execute_result"
    }
   ],
   "source": [
    "y.shape"
   ]
  },
  {
   "cell_type": "code",
   "execution_count": 30,
   "metadata": {},
   "outputs": [
    {
     "name": "stdout",
     "output_type": "stream",
     "text": [
      "[(0, 285), (1, 95)]\n"
     ]
    }
   ],
   "source": [
    "print(sorted(Counter(y).items()))"
   ]
  },
  {
   "cell_type": "code",
   "execution_count": 31,
   "metadata": {},
   "outputs": [
    {
     "name": "stderr",
     "output_type": "stream",
     "text": [
      "/anaconda3/lib/python3.6/site-packages/ipykernel_launcher.py:2: SettingWithCopyWarning: \n",
      "A value is trying to be set on a copy of a slice from a DataFrame.\n",
      "Try using .loc[row_indexer,col_indexer] = value instead\n",
      "\n",
      "See the caveats in the documentation: http://pandas.pydata.org/pandas-docs/stable/user_guide/indexing.html#returning-a-view-versus-a-copy\n",
      "  \n"
     ]
    }
   ],
   "source": [
    "raw2=X\n",
    "raw2['AGG_PHYS_CAT']=y"
   ]
  },
  {
   "cell_type": "markdown",
   "metadata": {},
   "source": [
    "# Smoting the data & PCA"
   ]
  },
  {
   "cell_type": "code",
   "execution_count": 32,
   "metadata": {
    "colab": {},
    "colab_type": "code",
    "id": "LYY_w67HwwFB"
   },
   "outputs": [],
   "source": [
    "from imblearn.over_sampling import SMOTE # doctest: +NORMALIZE_WHITESPACE\n",
    "from collections import Counter"
   ]
  },
  {
   "cell_type": "code",
   "execution_count": 33,
   "metadata": {
    "colab": {},
    "colab_type": "code",
    "id": "b7Hx5Ekpwx7V"
   },
   "outputs": [],
   "source": [
    "from imblearn.over_sampling import SMOTE\n",
    "from imblearn.under_sampling import RandomUnderSampler\n",
    "from imblearn.pipeline import Pipeline\n",
    "\n",
    "from imblearn.over_sampling import BorderlineSMOTE\n",
    "from imblearn.over_sampling import SVMSMOTE\n",
    "\n",
    "from imblearn.over_sampling import KMeansSMOTE\n",
    "over = SVMSMOTE(random_state=0)"
   ]
  },
  {
   "cell_type": "code",
   "execution_count": null,
   "metadata": {},
   "outputs": [],
   "source": []
  },
  {
   "cell_type": "code",
   "execution_count": 34,
   "metadata": {},
   "outputs": [
    {
     "name": "stdout",
     "output_type": "stream",
     "text": [
      "T-SNE took 2.5 s\n",
      "PCA took 0.0029 s\n",
      "Truncated SVD took 0.0041 s\n"
     ]
    },
    {
     "data": {
      "image/png": "[encoded data removed]",
      "text/plain": [
       "<Figure size 1728x432 with 2 Axes>"
      ]
     },
     "metadata": {
      "needs_background": "light"
     },
     "output_type": "display_data"
    }
   ],
   "source": [
    "import time\n",
    "\n",
    "from sklearn.manifold import TSNE\n",
    "from sklearn.decomposition import PCA, TruncatedSVD\n",
    "# New_df is from the random undersample data (fewer instances)\n",
    "X = raw2.drop('AGG_PHYS_CAT', axis=1)\n",
    "y = raw2['AGG_PHYS_CAT']\n",
    "\n",
    "\n",
    "# T-SNE Implementation\n",
    "t0 = time.time()\n",
    "X_reduced_tsne = TSNE(n_components=2, random_state=42).fit(X.values)\n",
    "t1 = time.time()\n",
    "print(\"T-SNE took {:.2} s\".format(t1 - t0))\n",
    "\n",
    "# PCA Implementation\n",
    "t0 = time.time()\n",
    "X_reduced_pca = PCA(n_components=2, random_state=42).fit_transform(X.values)\n",
    "t1 = time.time()\n",
    "print(\"PCA took {:.2} s\".format(t1 - t0))\n",
    "\n",
    "# TruncatedSVD\n",
    "t0 = time.time()\n",
    "X_reduced_svd = TruncatedSVD(n_components=2, algorithm='randomized', random_state=42).fit_transform(X.values)\n",
    "t1 = time.time()\n",
    "print(\"Truncated SVD took {:.2} s\".format(t1 - t0))\n",
    "\n",
    "import matplotlib.patches as mpatches\n",
    "f, (ax2, ax3) = plt.subplots(1, 2, figsize=(24,6))\n",
    "# labels = ['No Fraud', 'Fraud']\n",
    "f.suptitle('Clusters using Dimensionality Reduction', fontsize=14)\n",
    "\n",
    "\n",
    "blue_patch = mpatches.Patch(color='#0A0AFF', label='Negative')\n",
    "red_patch = mpatches.Patch(color='#AF0000', label='Positive')\n",
    "\n",
    "\n",
    "# # t-SNE scatter plot\n",
    "# ax1.scatter(X_reduced_tsne[:,0], X_reduced_tsne[:,1], c=(y == 0), cmap='coolwarm', label='No Fraud', linewidths=2)\n",
    "# ax1.scatter(X_reduced_tsne[:,0], X_reduced_tsne[:,1], c=(y == 1), cmap='coolwarm', label='Fraud', linewidths=2)\n",
    "# ax1.set_title('t-SNE', fontsize=14)\n",
    "\n",
    "# ax1.grid(True)\n",
    "\n",
    "# ax1.legend(handles=[blue_patch, red_patch])\n",
    "\n",
    "\n",
    "# PCA scatter plot\n",
    "ax2.scatter(X_reduced_pca[:,0], X_reduced_pca[:,1], c=(y == 0), cmap='coolwarm', label='Neg', linewidths=2)\n",
    "ax2.scatter(X_reduced_pca[:,0], X_reduced_pca[:,1], c=(y == 1), cmap='coolwarm', label='Pos', linewidths=2)\n",
    "ax2.set_title('PCA', fontsize=14)\n",
    "\n",
    "ax2.grid(True)\n",
    "\n",
    "ax2.legend(handles=[blue_patch, red_patch])\n",
    "\n",
    "# TruncatedSVD scatter plot\n",
    "ax3.scatter(X_reduced_svd[:,0], X_reduced_svd[:,1], c=(y == 0), cmap='coolwarm', label='Neg', linewidths=2)\n",
    "ax3.scatter(X_reduced_svd[:,0], X_reduced_svd[:,1], c=(y == 1), cmap='coolwarm', label='Pos', linewidths=2)\n",
    "ax3.set_title('Truncated SVD', fontsize=14)\n",
    "\n",
    "ax3.grid(True)\n",
    "\n",
    "ax3.legend(handles=[blue_patch, red_patch])\n",
    "\n",
    "plt.show()"
   ]
  },
  {
   "cell_type": "code",
   "execution_count": 35,
   "metadata": {
    "colab": {
     "base_uri": "https://localhost:8080/",
     "height": 51
    },
    "colab_type": "code",
    "id": "0qWXyxWbwzmz",
    "outputId": "790e7851-2a4c-4a5c-f406-5ffd4b05296a"
   },
   "outputs": [
    {
     "name": "stdout",
     "output_type": "stream",
     "text": [
      "[(0, 285), (1, 285)]\n"
     ]
    }
   ],
   "source": [
    "# X_train1,y_train1 = over.fit_sample(X,y)\n",
    "X_train1,y_train1 = over.fit_resample(X, y)\n",
    "print(sorted(Counter(y_train1).items()))"
   ]
  },
  {
   "cell_type": "code",
   "execution_count": 36,
   "metadata": {},
   "outputs": [],
   "source": [
    "\n",
    "# from imblearn.combine import SMOTETomek\n",
    "# # smote_tomek = SMOTETomek(random_state=0)\n",
    "\n",
    "# X_train3,y_train3= smote_tomek.fit_resample(X,y)\n",
    "\n",
    "# print(sorted(Counter(y_train3).items()))"
   ]
  },
  {
   "cell_type": "code",
   "execution_count": 37,
   "metadata": {},
   "outputs": [
    {
     "data": {
      "text/plain": [
       "(380, 31)"
      ]
     },
     "execution_count": 37,
     "metadata": {},
     "output_type": "execute_result"
    }
   ],
   "source": [
    "X.shape"
   ]
  },
  {
   "cell_type": "code",
   "execution_count": 38,
   "metadata": {},
   "outputs": [],
   "source": [
    "new_df=X_train1\n",
    "new_df['AGG_PHYS_CAT']=y_train1\n"
   ]
  },
  {
   "cell_type": "code",
   "execution_count": 39,
   "metadata": {},
   "outputs": [
    {
     "name": "stdout",
     "output_type": "stream",
     "text": [
      "T-SNE took 3.7 s\n",
      "PCA took 0.0041 s\n",
      "Truncated SVD took 0.0036 s\n"
     ]
    }
   ],
   "source": [
    "import time\n",
    "\n",
    "from sklearn.manifold import TSNE\n",
    "from sklearn.decomposition import PCA, TruncatedSVD\n",
    "# New_df is from the random undersample data (fewer instances)\n",
    "X = new_df.drop('AGG_PHYS_CAT', axis=1)\n",
    "y = new_df['AGG_PHYS_CAT']\n",
    "# T-SNE Implementation\n",
    "t0 = time.time()\n",
    "X_reduced_tsne = TSNE(n_components=2, random_state=42).fit(X.values)\n",
    "t1 = time.time()\n",
    "print(\"T-SNE took {:.2} s\".format(t1 - t0))\n",
    "\n",
    "# PCA Implementation\n",
    "t0 = time.time()\n",
    "X_reduced_pca = PCA(n_components=2, random_state=42).fit_transform(X.values)\n",
    "t1 = time.time()\n",
    "print(\"PCA took {:.2} s\".format(t1 - t0))\n",
    "\n",
    "# TruncatedSVD\n",
    "t0 = time.time()\n",
    "X_reduced_svd = TruncatedSVD(n_components=2, algorithm='randomized', random_state=42).fit_transform(X.values)\n",
    "t1 = time.time()\n",
    "print(\"Truncated SVD took {:.2} s\".format(t1 - t0))"
   ]
  },
  {
   "cell_type": "code",
   "execution_count": 40,
   "metadata": {},
   "outputs": [
    {
     "data": {
      "image/png": "[encoded data removed]",
      "text/plain": [
       "<Figure size 1728x432 with 2 Axes>"
      ]
     },
     "metadata": {
      "needs_background": "light"
     },
     "output_type": "display_data"
    }
   ],
   "source": [
    "\n",
    "import matplotlib.patches as mpatches\n",
    "f, (ax2, ax3) = plt.subplots(1, 2, figsize=(24,6))\n",
    "# labels = ['No Fraud', 'Fraud']\n",
    "f.suptitle('Clusters using Dimensionality Reduction', fontsize=14)\n",
    "\n",
    "\n",
    "blue_patch = mpatches.Patch(color='#0A0AFF', label='Negative')\n",
    "red_patch = mpatches.Patch(color='#AF0000', label='Positive')\n",
    "\n",
    "\n",
    "# # t-SNE scatter plot\n",
    "# ax1.scatter(X_reduced_tsne[:,0], X_reduced_tsne[:,1], c=(y == 0), cmap='coolwarm', label='No Fraud', linewidths=2)\n",
    "# ax1.scatter(X_reduced_tsne[:,0], X_reduced_tsne[:,1], c=(y == 1), cmap='coolwarm', label='Fraud', linewidths=2)\n",
    "# ax1.set_title('t-SNE', fontsize=14)\n",
    "\n",
    "# ax1.grid(True)\n",
    "\n",
    "# ax1.legend(handles=[blue_patch, red_patch])\n",
    "\n",
    "\n",
    "# PCA scatter plot\n",
    "ax2.scatter(X_reduced_pca[:,0], X_reduced_pca[:,1], c=(y == 0), cmap='coolwarm', label='Negative', linewidths=2)\n",
    "ax2.scatter(X_reduced_pca[:,0], X_reduced_pca[:,1], c=(y == 1), cmap='coolwarm', label='Positive', linewidths=2)\n",
    "ax2.set_title('PCA', fontsize=14)\n",
    "\n",
    "ax2.grid(True)\n",
    "\n",
    "ax2.legend(handles=[blue_patch, red_patch])\n",
    "\n",
    "# TruncatedSVD scatter plot\n",
    "ax3.scatter(X_reduced_svd[:,0], X_reduced_svd[:,1], c=(y == 0), cmap='coolwarm', label='Negative', linewidths=2)\n",
    "ax3.scatter(X_reduced_svd[:,0], X_reduced_svd[:,1], c=(y == 1), cmap='coolwarm', label='Positive', linewidths=2)\n",
    "ax3.set_title('Truncated SVD', fontsize=14)\n",
    "\n",
    "ax3.grid(True)\n",
    "\n",
    "ax3.legend(handles=[blue_patch, red_patch])\n",
    "\n",
    "plt.show()"
   ]
  },
  {
   "cell_type": "code",
   "execution_count": 41,
   "metadata": {
    "colab": {
     "base_uri": "https://localhost:8080/",
     "height": 34
    },
    "colab_type": "code",
    "id": "_pR5D4M-w7Jv",
    "outputId": "28a5e473-4bbe-4715-c4ba-aa0863d6b4ae"
   },
   "outputs": [],
   "source": [
    "# from numpy import mean\n",
    "# from sklearn.model_selection import cross_val_score\n",
    "# from sklearn.model_selection import RepeatedStratifiedKFold\n",
    "# from sklearn.tree import DecisionTreeClassifier\n",
    "\n",
    "# # define model\n",
    "# model1 = DecisionTreeClassifier()\n",
    "# # evaluate pipeline\n",
    "# cv = RepeatedStratifiedKFold(n_splits=10, n_repeats=3, random_state=1)\n",
    "# scores = cross_val_score(model1, X_train, y_train, scoring='accuracy', cv=cv, n_jobs=-1)\n",
    "# print('Mean ROC AUC: %.3f' % mean(scores))\n",
    "X=raw1[['Age', 'Gender', 'Living', 'TTC5', 'TTC6a', 'TTC6b', 'TTC6c',\n",
    "       'TTC6d', 'distress', 'ImpairedPolypharmacy', 'cognition',\n",
    "       'nutrition', 'phy_performance', 'function', 'ImpairedCom',\n",
    "       'psychological', 'ImpairedMS', 'calcimpairedCom',\n",
    "       'Control', 'incomecat_1.0', 'incomecat_2.0',\n",
    "       'gradecat_1.0', 'gradecat_2.0', 'relationship_cat_1.0',\n",
    "       'relationship_cat_2.0', 'race_cat_1.0', 'race_cat_2.0', 'TTC3_1.0',\n",
    "       'TTC3_2.0', 'GI_Lung_1.0', 'GI_Lung_2.0']]\n",
    "y=raw1['AGG_PHYS_CAT']\n",
    "X_train, X_test, y_train, y_test = train_test_split(X, y, test_size=0.25, random_state=42,stratify=y)"
   ]
  },
  {
   "cell_type": "code",
   "execution_count": 54,
   "metadata": {},
   "outputs": [],
   "source": [
    "def get_best_threshold(testy,yhat):\n",
    "    fpr, tpr, thresholds = roc_curve(testy, yhat)\n",
    "    # get the best threshold\n",
    "    J = tpr - fpr\n",
    "    ix = argmax(J)\n",
    "    best_thresh = thresholds[ix]\n",
    "    print('Best Threshold=%f' % (best_thresh))\n",
    "    return best_thresh"
   ]
  },
  {
   "cell_type": "markdown",
   "metadata": {},
   "source": [
    "### Logistic Regression Tuning"
   ]
  },
  {
   "cell_type": "code",
   "execution_count": 42,
   "metadata": {},
   "outputs": [],
   "source": [
    "from sklearn.model_selection import GridSearchCV\n",
    "from imblearn.over_sampling import SMOTE # doctest: +NORMALIZE_WHITESPACE\n",
    "from sklearn.linear_model import LogisticRegression\n",
    "# Create the parameter grid based on the results of random search \n",
    "from imblearn.pipeline import Pipeline\n",
    "modelrf = Pipeline([\n",
    "        ('lgr',  LogisticRegression(random_state=42,class_weight = {0:1,1:(285/95)}))\n",
    "    ])\n",
    "\n",
    "param_grid = {\n",
    "\n",
    "}\n",
    "# Create a based model\n",
    "\n",
    "# Instantiate the grid search model\n",
    "grid_searchlgr = GridSearchCV(estimator = modelrf, param_grid = param_grid,scoring='f1',return_train_score=True,  \n",
    "                          cv = 5, n_jobs = -1)"
   ]
  },
  {
   "cell_type": "code",
   "execution_count": 43,
   "metadata": {},
   "outputs": [
    {
     "name": "stderr",
     "output_type": "stream",
     "text": [
      "/anaconda3/lib/python3.6/site-packages/sklearn/linear_model/_logistic.py:940: ConvergenceWarning: lbfgs failed to converge (status=1):\n",
      "STOP: TOTAL NO. of ITERATIONS REACHED LIMIT.\n",
      "\n",
      "Increase the number of iterations (max_iter) or scale the data as shown in:\n",
      "    https://scikit-learn.org/stable/modules/preprocessing.html\n",
      "Please also refer to the documentation for alternative solver options:\n",
      "    https://scikit-learn.org/stable/modules/linear_model.html#logistic-regression\n",
      "  extra_warning_msg=_LOGISTIC_SOLVER_CONVERGENCE_MSG)\n"
     ]
    },
    {
     "data": {
      "text/plain": [
       "{}"
      ]
     },
     "execution_count": 43,
     "metadata": {},
     "output_type": "execute_result"
    }
   ],
   "source": [
    "grid_searchlgr.fit(X_train, y_train)\n",
    "grid_searchlgr.best_params_"
   ]
  },
  {
   "cell_type": "code",
   "execution_count": 44,
   "metadata": {},
   "outputs": [
    {
     "data": {
      "text/plain": [
       "0.4595482295482295"
      ]
     },
     "execution_count": 44,
     "metadata": {},
     "output_type": "execute_result"
    }
   ],
   "source": [
    "grid_searchlgr.best_score_"
   ]
  },
  {
   "cell_type": "code",
   "execution_count": 45,
   "metadata": {},
   "outputs": [
    {
     "name": "stdout",
     "output_type": "stream",
     "text": [
      "[[50 21]\n",
      " [12 12]]\n"
     ]
    }
   ],
   "source": [
    "# Visualise classical Confusion Matrix\n",
    "from sklearn.metrics import confusion_matrix\n",
    "lgrres = grid_searchlgr.predict(X_test)\n",
    "CMlgr = confusion_matrix(y_test, lgrres)\n",
    "print(CMlgr)"
   ]
  },
  {
   "cell_type": "code",
   "execution_count": 46,
   "metadata": {},
   "outputs": [],
   "source": [
    "#changing the prediction threshold"
   ]
  },
  {
   "cell_type": "code",
   "execution_count": 47,
   "metadata": {},
   "outputs": [
    {
     "name": "stdout",
     "output_type": "stream",
     "text": [
      "[[40 31]\n",
      " [10 14]]\n"
     ]
    }
   ],
   "source": [
    "from sklearn.metrics import confusion_matrix\n",
    "lgrres = grid_searchlgr.predict_proba(X_test)\n",
    "lgrres=(lgrres[:,1]>=0.41).astype(int)\n",
    "lg_cm = confusion_matrix(y_test,lgrres)\n",
    "print(lg_cm)"
   ]
  },
  {
   "cell_type": "code",
   "execution_count": null,
   "metadata": {},
   "outputs": [],
   "source": [
    "from mlxtend.plotting import plot_confusion_matrix\n",
    "import numpy as np\n",
    "binary = np.array([[40,31],\n",
    " [ 10, 14]])\n",
    "\n",
    "fig, ax = plot_confusion_matrix(conf_mat=binary,\n",
    "                                show_absolute=True,\n",
    "                                show_normed=True,\n",
    "                                colorbar=True)\n",
    "plt.title(\"LogisticRegression CM\")\n",
    "plt.show()"
   ]
  },
  {
   "cell_type": "markdown",
   "metadata": {},
   "source": [
    "### RandomForest Tuning"
   ]
  },
  {
   "cell_type": "code",
   "execution_count": 49,
   "metadata": {
    "colab": {},
    "colab_type": "code",
    "id": "RJPuXgDfxDhf"
   },
   "outputs": [],
   "source": [
    "from sklearn.model_selection import GridSearchCV\n",
    "from imblearn.over_sampling import SMOTE # doctest: +NORMALIZE_WHITESPACE\n",
    "from sklearn.ensemble import RandomForestClassifier\n",
    "\n",
    "# Create the parameter grid based on the results of random search \n",
    "from imblearn.pipeline import Pipeline\n",
    "modelrf = Pipeline([\n",
    "        ('rf', RandomForestClassifier(random_state=42,class_weight = {0:1,1:(285/95)}))\n",
    "    ])\n",
    "\n",
    "param_grid = {\n",
    "    'rf__max_depth': [10,20,40,60],\n",
    "    'rf__max_features': [0.07,0.13,0.15,0.25],\n",
    "    'rf__min_samples_split': [2,3,5,8,12],\n",
    "    'rf__min_samples_leaf': [1,2,4,8],\n",
    "    'rf__n_estimators': [10,25,45, 60,110,148,200],\n",
    "    'rf__bootstrap': [True, False]\n",
    "}\n",
    "\n",
    "# Create a based model\n",
    "\n",
    "# Instantiate the grid search model\n",
    "grid_searchrf = GridSearchCV(estimator = modelrf, param_grid = param_grid,scoring='f1',return_train_score=True,  \n",
    "                          cv = 5, n_jobs = -1,verbose=5)"
   ]
  },
  {
   "cell_type": "code",
   "execution_count": 61,
   "metadata": {},
   "outputs": [],
   "source": [
    "from sklearn.model_selection import GridSearchCV\n",
    "from imblearn.over_sampling import SMOTE # doctest: +NORMALIZE_WHITESPACE\n",
    "from sklearn.ensemble import RandomForestClassifier\n",
    "\n",
    "# Create the parameter grid based on the results of random search \n",
    "from imblearn.pipeline import Pipeline\n",
    "modelrf = Pipeline([\n",
    "        ('rf', RandomForestClassifier(random_state=42,class_weight = {0:1,1:(285/95)}))\n",
    "    ])\n",
    "\n",
    "param_grid ={'rf__bootstrap': [True],\n",
    " 'rf__max_depth': [10],\n",
    " 'rf__max_features': [0.25,0.2,'sqrt'],\n",
    " 'rf__min_samples_leaf': [8],\n",
    " 'rf__min_samples_split': [2],\n",
    " 'rf__n_estimators': [200]}\n",
    "# Create a based model\n",
    "\n",
    "# Instantiate the grid search model\n",
    "grid_searchrf = GridSearchCV(estimator = modelrf, param_grid = param_grid,scoring='f1',return_train_score=True,  \n",
    "                          cv = 5, n_jobs = -1,verbose=5)"
   ]
  },
  {
   "cell_type": "code",
   "execution_count": 62,
   "metadata": {
    "colab": {
     "base_uri": "https://localhost:8080/",
     "height": 325
    },
    "colab_type": "code",
    "id": "98MwGC9G07yl",
    "outputId": "1875af77-71d3-4dfc-c17b-fe1c098ac79a"
   },
   "outputs": [
    {
     "name": "stdout",
     "output_type": "stream",
     "text": [
      "Fitting 5 folds for each of 3 candidates, totalling 15 fits\n"
     ]
    },
    {
     "name": "stderr",
     "output_type": "stream",
     "text": [
      "[Parallel(n_jobs=-1)]: Using backend LokyBackend with 12 concurrent workers.\n",
      "[Parallel(n_jobs=-1)]: Done   4 out of  15 | elapsed:    5.9s remaining:   16.5s\n",
      "[Parallel(n_jobs=-1)]: Done   8 out of  15 | elapsed:    6.0s remaining:    5.2s\n",
      "[Parallel(n_jobs=-1)]: Done  12 out of  15 | elapsed:    6.0s remaining:    1.4s\n",
      "[Parallel(n_jobs=-1)]: Done  15 out of  15 | elapsed:    6.4s finished\n"
     ]
    },
    {
     "data": {
      "text/plain": [
       "{'rf__bootstrap': True,\n",
       " 'rf__max_depth': 10,\n",
       " 'rf__max_features': 0.25,\n",
       " 'rf__min_samples_leaf': 8,\n",
       " 'rf__min_samples_split': 2,\n",
       " 'rf__n_estimators': 200}"
      ]
     },
     "execution_count": 62,
     "metadata": {},
     "output_type": "execute_result"
    }
   ],
   "source": [
    "grid_searchrf.fit(X_train, y_train)\n",
    "grid_searchrf.best_params_"
   ]
  },
  {
   "cell_type": "code",
   "execution_count": null,
   "metadata": {},
   "outputs": [],
   "source": [
    "# {'rf__bootstrap': True,\n",
    "#  'rf__max_depth': 10,\n",
    "#  'rf__max_features': 0.25,\n",
    "#  'rf__min_samples_leaf': 8,\n",
    "#  'rf__min_samples_split': 2,\n",
    "#  'rf__n_estimators': 200}"
   ]
  },
  {
   "cell_type": "code",
   "execution_count": 63,
   "metadata": {
    "colab": {},
    "colab_type": "code",
    "id": "0U2n2VYF_62a"
   },
   "outputs": [
    {
     "data": {
      "text/plain": [
       "0.5114430860881165"
      ]
     },
     "execution_count": 63,
     "metadata": {},
     "output_type": "execute_result"
    }
   ],
   "source": [
    "grid_searchrf.best_score_"
   ]
  },
  {
   "cell_type": "code",
   "execution_count": 64,
   "metadata": {
    "colab": {
     "base_uri": "https://localhost:8080/",
     "height": 284
    },
    "colab_type": "code",
    "id": "mWwLTbSsghkT",
    "outputId": "4d0cff97-6224-4ac0-c5a7-401c2d4c456b"
   },
   "outputs": [
    {
     "data": {
      "text/plain": [
       "0.4827586206896552"
      ]
     },
     "execution_count": 64,
     "metadata": {},
     "output_type": "execute_result"
    }
   ],
   "source": [
    "grid_searchrf.score(X_test,y_test)"
   ]
  },
  {
   "cell_type": "code",
   "execution_count": 53,
   "metadata": {},
   "outputs": [],
   "source": [
    "df_rf = pd.DataFrame(grid_searchrf.cv_results_)\n",
    "df_rf.to_excel(\"result_rf.xlsx\")"
   ]
  },
  {
   "cell_type": "code",
   "execution_count": 65,
   "metadata": {},
   "outputs": [
    {
     "name": "stdout",
     "output_type": "stream",
     "text": [
      "[[51 20]\n",
      " [10 14]]\n"
     ]
    }
   ],
   "source": [
    "# Visualise classical Confusion M0atrix\n",
    "from sklearn.metrics import confusion_matrix\n",
    "rfres = grid_searchrf.predict(X_test)\n",
    "\n",
    "rf_cm = confusion_matrix(y_test, rfres)\n",
    "\n",
    "print(rf_cm)"
   ]
  },
  {
   "cell_type": "code",
   "execution_count": 135,
   "metadata": {},
   "outputs": [
    {
     "data": {
      "text/plain": [
       "array(['Age', 'Gender', 'Living', 'TTC5', 'TTC6a', 'TTC6b', 'TTC6c',\n",
       "       'TTC6d', 'distress', 'ImpairedPolypharmacy', 'cognition',\n",
       "       'nutrition', 'phy_performance', 'function', 'ImpairedCom',\n",
       "       'psychological', 'ImpairedMS', 'calcimpairedCom', 'Control',\n",
       "       'incomecat_1.0', 'incomecat_2.0', 'gradecat_1.0', 'gradecat_2.0',\n",
       "       'relationship_cat_1.0', 'relationship_cat_2.0', 'race_cat_1.0',\n",
       "       'race_cat_2.0', 'TTC3_1.0', 'TTC3_2.0', 'GI_Lung_1.0',\n",
       "       'GI_Lung_2.0'], dtype=object)"
      ]
     },
     "execution_count": 135,
     "metadata": {},
     "output_type": "execute_result"
    }
   ],
   "source": [
    "X.columns.values"
   ]
  },
  {
   "cell_type": "code",
   "execution_count": 136,
   "metadata": {},
   "outputs": [
    {
     "data": {
      "text/plain": [
       "array([0.15721372, 0.021118  , 0.0275524 , 0.0232563 , 0.01578499,\n",
       "       0.00931793, 0.01041971, 0.00250971, 0.03805491, 0.01797752,\n",
       "       0.01583745, 0.02447452, 0.00481257, 0.03927299, 0.04460785,\n",
       "       0.04772857, 0.0115182 , 0.26424469, 0.04918966, 0.04118813,\n",
       "       0.03206699, 0.00349513, 0.01580593, 0.0156423 , 0.01750753,\n",
       "       0.00322036, 0.00053282, 0.00319493, 0.004121  , 0.02097585,\n",
       "       0.01735732])"
      ]
     },
     "execution_count": 136,
     "metadata": {},
     "output_type": "execute_result"
    }
   ],
   "source": [
    "grid_searchrf.best_estimator_.named_steps[\"rf\"].feature_importances_"
   ]
  },
  {
   "cell_type": "code",
   "execution_count": 66,
   "metadata": {},
   "outputs": [
    {
     "name": "stdout",
     "output_type": "stream",
     "text": [
      "Best Threshold=0.405361\n",
      "[[46 25]\n",
      " [ 6 18]]\n"
     ]
    }
   ],
   "source": [
    "from sklearn.metrics import confusion_matrix\n",
    "rfrr= grid_searchrf.predict_proba(X_test)\n",
    "rfrr_thres=get_best_threshold(y_test,rfrr[:,1])\n",
    "rfrr=(rfrr[:,1]>=rfrr_thres).astype(int)\n",
    "rfrr_cm = confusion_matrix(y_test,rfrr)\n",
    "print(rfrr_cm)"
   ]
  },
  {
   "cell_type": "code",
   "execution_count": 55,
   "metadata": {},
   "outputs": [
    {
     "data": {
      "image/png": "[encoded data removed]",
      "text/plain": [
       "<Figure size 432x288 with 2 Axes>"
      ]
     },
     "metadata": {
      "needs_background": "light"
     },
     "output_type": "display_data"
    }
   ],
   "source": [
    "from mlxtend.plotting import plot_confusion_matrix\n",
    "binary = np.array([[54 ,17],\n",
    " [10, 14]])\n",
    "\n",
    "fig, ax = plot_confusion_matrix(conf_mat=binary,\n",
    "                                show_absolute=True,\n",
    "                                show_normed=True,\n",
    "                                colorbar=True)\n",
    "plt.title(\"RandomForest CM\")\n",
    "plt.show()"
   ]
  },
  {
   "cell_type": "code",
   "execution_count": 67,
   "metadata": {},
   "outputs": [
    {
     "data": {
      "image/png": "[encoded data removed]",
      "text/plain": [
       "<Figure size 432x288 with 2 Axes>"
      ]
     },
     "metadata": {
      "needs_background": "light"
     },
     "output_type": "display_data"
    }
   ],
   "source": [
    "from mlxtend.plotting import plot_confusion_matrix\n",
    "binary = np.array([[46 ,25],\n",
    " [ 6 ,18]])\n",
    "\n",
    "fig, ax = plot_confusion_matrix(conf_mat=binary,\n",
    "                                show_absolute=True,\n",
    "                                show_normed=True,\n",
    "                                colorbar=True)\n",
    "plt.title(\"RandomForest CM\")\n",
    "plt.show()"
   ]
  },
  {
   "cell_type": "markdown",
   "metadata": {},
   "source": [
    "### SVM Tuning"
   ]
  },
  {
   "cell_type": "code",
   "execution_count": 56,
   "metadata": {},
   "outputs": [],
   "source": [
    "from sklearn.svm import SVC \n",
    "\n",
    "from sklearn.model_selection import GridSearchCV\n",
    "modelsvm = SVC(random_state=42, verbose=2,probability=True, class_weight = {0:1,1:(285/95)})\n",
    "\n",
    "\n",
    "\n",
    "param_gridsvm = {'C': [0.1, 1, 10,20,50, 100,200,500,1000, 0.01, 0.05, 0.001,0.005, 0.0001,0.0005],  \n",
    "              'gamma': [10,20,50, 100,200,500,1000,1,0.5, 0.1, 0.01, 0.05, 0.001,0.005, 0.0001,0.0005], \n",
    "              'kernel': ['rbf']}  \n",
    "\n",
    "\n",
    "svmgridsearch = GridSearchCV(estimator=modelsvm, param_grid=param_gridsvm, n_jobs=-1, \n",
    "                             cv=5, verbose=2, return_train_score=True,scoring=\"f1\")"
   ]
  },
  {
   "cell_type": "code",
   "execution_count": 57,
   "metadata": {},
   "outputs": [
    {
     "name": "stdout",
     "output_type": "stream",
     "text": [
      "Fitting 5 folds for each of 240 candidates, totalling 1200 fits\n"
     ]
    },
    {
     "name": "stderr",
     "output_type": "stream",
     "text": [
      "[Parallel(n_jobs=-1)]: Using backend LokyBackend with 4 concurrent workers.\n",
      "[Parallel(n_jobs=-1)]: Done  58 tasks      | elapsed:    1.5s\n",
      "[Parallel(n_jobs=-1)]: Done 300 tasks      | elapsed:    7.1s\n",
      "[Parallel(n_jobs=-1)]: Done 706 tasks      | elapsed:   17.5s\n"
     ]
    },
    {
     "name": "stdout",
     "output_type": "stream",
     "text": [
      "[LibSVM]"
     ]
    },
    {
     "name": "stderr",
     "output_type": "stream",
     "text": [
      "[Parallel(n_jobs=-1)]: Done 1200 out of 1200 | elapsed:   28.8s finished\n"
     ]
    },
    {
     "data": {
      "text/plain": [
       "{'C': 500, 'gamma': 0.0001, 'kernel': 'rbf'}"
      ]
     },
     "execution_count": 57,
     "metadata": {},
     "output_type": "execute_result"
    }
   ],
   "source": [
    "svmgridsearch.fit(X_train,y_train)\n",
    "svmgridsearch.best_params_"
   ]
  },
  {
   "cell_type": "code",
   "execution_count": 58,
   "metadata": {},
   "outputs": [
    {
     "data": {
      "text/plain": [
       "0.541930501930502"
      ]
     },
     "execution_count": 58,
     "metadata": {},
     "output_type": "execute_result"
    }
   ],
   "source": [
    "svmgridsearch.best_score_"
   ]
  },
  {
   "cell_type": "code",
   "execution_count": 59,
   "metadata": {},
   "outputs": [
    {
     "data": {
      "text/plain": [
       "0.45901639344262296"
      ]
     },
     "execution_count": 59,
     "metadata": {},
     "output_type": "execute_result"
    }
   ],
   "source": [
    "svmgridsearch.score(X_test,y_test)"
   ]
  },
  {
   "cell_type": "code",
   "execution_count": 60,
   "metadata": {},
   "outputs": [],
   "source": [
    "df_gridsearchsvm = pd.DataFrame(svmgridsearch.cv_results_)\n",
    "df_gridsearchsvm.to_excel(\"result_svm.xlsx\")"
   ]
  },
  {
   "cell_type": "code",
   "execution_count": null,
   "metadata": {},
   "outputs": [],
   "source": [
    "from sklearn.metrics import confusion_matrix\n",
    "svmr= svmgridsearch.predict_proba(X_test)\n",
    "svmr_thres=get_best_threshold(y_test,rfrr[:,1])\n",
    "svmr=(svmr[:,1]>=rfrr_thres).astype(int)\n",
    "rfrr_cm = confusion_matrix(y_test,rfrr)\n",
    "print(rfrr_cm)"
   ]
  },
  {
   "cell_type": "code",
   "execution_count": 61,
   "metadata": {},
   "outputs": [
    {
     "name": "stdout",
     "output_type": "stream",
     "text": [
      "[[48 23]\n",
      " [10 14]]\n"
     ]
    }
   ],
   "source": [
    "# Visualise classical Confusion M0atrix\n",
    "from sklearn.metrics import confusion_matrix\n",
    "svm = svmgridsearch.predict(X_test)\n",
    "svm_cm = confusion_matrix(y_test, svm)\n",
    "\n",
    "print(svm_cm)"
   ]
  },
  {
   "cell_type": "code",
   "execution_count": 62,
   "metadata": {},
   "outputs": [
    {
     "data": {
      "image/png": "[encoded data removed]",
      "text/plain": [
       "<Figure size 432x288 with 2 Axes>"
      ]
     },
     "metadata": {
      "needs_background": "light"
     },
     "output_type": "display_data"
    }
   ],
   "source": [
    "from mlxtend.plotting import plot_confusion_matrix\n",
    "binary = np.array([[48 ,23],\n",
    " [10, 14]])\n",
    "\n",
    "fig, ax = plot_confusion_matrix(conf_mat=binary,\n",
    "                                show_absolute=True,\n",
    "                                show_normed=True,\n",
    "                                colorbar=True)\n",
    "plt.title(\"SVM CM\")\n",
    "plt.show()"
   ]
  },
  {
   "cell_type": "markdown",
   "metadata": {},
   "source": [
    "### AdaBoost Tuning"
   ]
  },
  {
   "cell_type": "code",
   "execution_count": 28,
   "metadata": {},
   "outputs": [],
   "source": [
    "from sklearn.ensemble import AdaBoostClassifier\n",
    "from sklearn.model_selection import GridSearchCV\n",
    "\n",
    "ada=AdaBoostClassifier()\n",
    "param_dist = {\n",
    " 'n_estimators': list(np.arange(50,2000,50)),\n",
    " 'learning_rate' : [0.001,0.002,0.005,0.009,0.01,0.02,0.05,0.09,0.1,0.2,0.5,0.9,1]\n",
    " }\n",
    "\n",
    "# Instantiate the grid search model\n",
    "grid_search_ABR = GridSearchCV(estimator=ada,param_grid=param_dist,cv=3,n_jobs=-1,scoring='f1',verbose=3)"
   ]
  },
  {
   "cell_type": "code",
   "execution_count": 29,
   "metadata": {},
   "outputs": [
    {
     "name": "stdout",
     "output_type": "stream",
     "text": [
      "Fitting 3 folds for each of 507 candidates, totalling 1521 fits\n"
     ]
    },
    {
     "name": "stderr",
     "output_type": "stream",
     "text": [
      "[Parallel(n_jobs=-1)]: Using backend LokyBackend with 12 concurrent workers.\n",
      "[Parallel(n_jobs=-1)]: Done   8 tasks      | elapsed:    2.3s\n",
      "[Parallel(n_jobs=-1)]: Done 104 tasks      | elapsed:   22.4s\n",
      "[Parallel(n_jobs=-1)]: Done 264 tasks      | elapsed:   51.0s\n",
      "[Parallel(n_jobs=-1)]: Done 488 tasks      | elapsed:  1.7min\n",
      "[Parallel(n_jobs=-1)]: Done 776 tasks      | elapsed:  2.7min\n",
      "[Parallel(n_jobs=-1)]: Done 1128 tasks      | elapsed:  3.9min\n",
      "[Parallel(n_jobs=-1)]: Done 1521 out of 1521 | elapsed:  5.4min finished\n"
     ]
    },
    {
     "data": {
      "text/plain": [
       "{'learning_rate': 0.5, 'n_estimators': 50}"
      ]
     },
     "execution_count": 29,
     "metadata": {},
     "output_type": "execute_result"
    }
   ],
   "source": [
    "grid_search_ABR.fit(X_train, y_train)\n",
    "grid_search_ABR.best_params_"
   ]
  },
  {
   "cell_type": "code",
   "execution_count": 30,
   "metadata": {},
   "outputs": [
    {
     "data": {
      "text/plain": [
       "0.3123788977447514"
      ]
     },
     "execution_count": 30,
     "metadata": {},
     "output_type": "execute_result"
    }
   ],
   "source": [
    "grid_search_ABR.best_score_"
   ]
  },
  {
   "cell_type": "code",
   "execution_count": 31,
   "metadata": {},
   "outputs": [
    {
     "data": {
      "text/plain": [
       "0.4390243902439025"
      ]
     },
     "execution_count": 31,
     "metadata": {},
     "output_type": "execute_result"
    }
   ],
   "source": [
    "grid_search_ABR.score(X_test,y_test)"
   ]
  },
  {
   "cell_type": "code",
   "execution_count": 67,
   "metadata": {},
   "outputs": [],
   "source": [
    "df_gridsearchabr = pd.DataFrame(grid_search_ABR.cv_results_)\n",
    "df_gridsearchabr.to_excel(\"result_abr.xlsx\")"
   ]
  },
  {
   "cell_type": "code",
   "execution_count": 32,
   "metadata": {},
   "outputs": [
    {
     "name": "stdout",
     "output_type": "stream",
     "text": [
      "[[63  8]\n",
      " [15  9]]\n"
     ]
    }
   ],
   "source": [
    "# Visualise classical Confusion M0atrix\n",
    "from sklearn.metrics import confusion_matrix\n",
    "abr = grid_search_ABR.predict(X_test)\n",
    "abr_cm = confusion_matrix(y_test, abr)\n",
    "\n",
    "print(abr_cm)"
   ]
  },
  {
   "cell_type": "code",
   "execution_count": 58,
   "metadata": {},
   "outputs": [
    {
     "name": "stdout",
     "output_type": "stream",
     "text": [
      "Best Threshold=0.486383\n",
      "[[50 21]\n",
      " [ 6 18]]\n"
     ]
    }
   ],
   "source": [
    "from sklearn.metrics import confusion_matrix\n",
    "abrr = grid_search_ABR.predict_proba(X_test)\n",
    "abrr_thres=get_best_threshold(y_test,abrr[:,1])\n",
    "abrr=(abrr[:,1]>=abrr_thres).astype(int)\n",
    "abrr_cm = confusion_matrix(y_test,abrr)\n",
    "print(abrr_cm)"
   ]
  },
  {
   "cell_type": "code",
   "execution_count": 137,
   "metadata": {},
   "outputs": [
    {
     "data": {
      "text/plain": [
       "array(['Age', 'Gender', 'Living', 'TTC5', 'TTC6a', 'TTC6b', 'TTC6c',\n",
       "       'TTC6d', 'distress', 'ImpairedPolypharmacy', 'cognition',\n",
       "       'nutrition', 'phy_performance', 'function', 'ImpairedCom',\n",
       "       'psychological', 'ImpairedMS', 'calcimpairedCom', 'Control',\n",
       "       'incomecat_1.0', 'incomecat_2.0', 'gradecat_1.0', 'gradecat_2.0',\n",
       "       'relationship_cat_1.0', 'relationship_cat_2.0', 'race_cat_1.0',\n",
       "       'race_cat_2.0', 'TTC3_1.0', 'TTC3_2.0', 'GI_Lung_1.0',\n",
       "       'GI_Lung_2.0'], dtype=object)"
      ]
     },
     "execution_count": 137,
     "metadata": {},
     "output_type": "execute_result"
    }
   ],
   "source": [
    "X.columns.values"
   ]
  },
  {
   "cell_type": "code",
   "execution_count": 128,
   "metadata": {},
   "outputs": [
    {
     "data": {
      "text/plain": [
       "array([0.32, 0.02, 0.06, 0.  , 0.04, 0.  , 0.  , 0.02, 0.04, 0.04, 0.  ,\n",
       "       0.  , 0.  , 0.02, 0.06, 0.02, 0.02, 0.08, 0.06, 0.06, 0.  , 0.  ,\n",
       "       0.  , 0.02, 0.02, 0.  , 0.02, 0.02, 0.  , 0.04, 0.02])"
      ]
     },
     "execution_count": 128,
     "metadata": {},
     "output_type": "execute_result"
    }
   ],
   "source": [
    " grid_search_ABR.best_estimator_.feature_importances_"
   ]
  },
  {
   "cell_type": "code",
   "execution_count": 60,
   "metadata": {},
   "outputs": [
    {
     "data": {
      "image/png": "[encoded data removed]",
      "text/plain": [
       "<Figure size 432x288 with 2 Axes>"
      ]
     },
     "metadata": {
      "needs_background": "light"
     },
     "output_type": "display_data"
    }
   ],
   "source": [
    "from mlxtend.plotting import plot_confusion_matrix\n",
    "binary = np.array([[50 ,21],\n",
    " [ 6 ,18]])\n",
    "\n",
    "fig, ax = plot_confusion_matrix(conf_mat=binary,\n",
    "                                show_absolute=True,\n",
    "                                show_normed=True,\n",
    "                                colorbar=True)\n",
    "plt.title(\"AdaBoost CM\")\n",
    "plt.show()"
   ]
  },
  {
   "cell_type": "markdown",
   "metadata": {},
   "source": [
    "### KNN Tuning"
   ]
  },
  {
   "cell_type": "code",
   "execution_count": 108,
   "metadata": {},
   "outputs": [],
   "source": [
    "from sklearn.neighbors import KNeighborsClassifier\n",
    "from sklearn.model_selection import GridSearchCV\n",
    "\n",
    "param_grid_knn = {\n",
    "    'leaf_size':list(np.arange(1,30,1)),\n",
    "    'n_neighbors':list(np.arange(1,30,1)),\n",
    "    'metric':['euclidean','manhattan']\n",
    "}\n",
    "\n",
    "grid_search_knn= GridSearchCV(KNeighborsClassifier(),param_grid=param_grid_knn,verbose=1,cv=5,n_jobs=-1,scoring=\"f1\")"
   ]
  },
  {
   "cell_type": "code",
   "execution_count": 109,
   "metadata": {},
   "outputs": [
    {
     "name": "stdout",
     "output_type": "stream",
     "text": [
      "Fitting 5 folds for each of 1682 candidates, totalling 8410 fits\n"
     ]
    },
    {
     "name": "stderr",
     "output_type": "stream",
     "text": [
      "[Parallel(n_jobs=-1)]: Using backend LokyBackend with 12 concurrent workers.\n",
      "[Parallel(n_jobs=-1)]: Done  28 tasks      | elapsed:    0.0s\n",
      "[Parallel(n_jobs=-1)]: Done 1640 tasks      | elapsed:    2.1s\n",
      "[Parallel(n_jobs=-1)]: Done 5640 tasks      | elapsed:    6.6s\n",
      "[Parallel(n_jobs=-1)]: Done 8410 out of 8410 | elapsed:    9.8s finished\n"
     ]
    },
    {
     "data": {
      "text/plain": [
       "{'leaf_size': 2, 'metric': 'manhattan', 'n_neighbors': 3}"
      ]
     },
     "execution_count": 109,
     "metadata": {},
     "output_type": "execute_result"
    }
   ],
   "source": [
    "grid_search_knn.fit(X_train, y_train)\n",
    "grid_search_knn.best_params_"
   ]
  },
  {
   "cell_type": "code",
   "execution_count": 110,
   "metadata": {},
   "outputs": [
    {
     "data": {
      "text/plain": [
       "0.4317938286817006"
      ]
     },
     "execution_count": 110,
     "metadata": {},
     "output_type": "execute_result"
    }
   ],
   "source": [
    "grid_search_knn.best_score_"
   ]
  },
  {
   "cell_type": "code",
   "execution_count": 111,
   "metadata": {},
   "outputs": [
    {
     "data": {
      "text/plain": [
       "0.4"
      ]
     },
     "execution_count": 111,
     "metadata": {},
     "output_type": "execute_result"
    }
   ],
   "source": [
    "grid_search_knn.score(X_test,y_test)"
   ]
  },
  {
   "cell_type": "code",
   "execution_count": 112,
   "metadata": {},
   "outputs": [
    {
     "name": "stdout",
     "output_type": "stream",
     "text": [
      "[[63  8]\n",
      " [16  8]]\n"
     ]
    }
   ],
   "source": [
    "# Visualise classical Confusion M0atrix\n",
    "from sklearn.metrics import confusion_matrix\n",
    "knn_grid = grid_search_knn.predict(X_test)\n",
    "knn_cm = confusion_matrix(y_test, knn_grid)\n",
    "\n",
    "print(knn_cm)"
   ]
  },
  {
   "cell_type": "code",
   "execution_count": 113,
   "metadata": {},
   "outputs": [
    {
     "data": {
      "image/png": "[encoded data removed]",
      "text/plain": [
       "<Figure size 432x288 with 2 Axes>"
      ]
     },
     "metadata": {
      "needs_background": "light"
     },
     "output_type": "display_data"
    }
   ],
   "source": [
    "from mlxtend.plotting import plot_confusion_matrix\n",
    "binary = np.array([[59 ,12],\n",
    " [16, 8]])\n",
    "\n",
    "fig, ax = plot_confusion_matrix(conf_mat=binary,\n",
    "                                show_absolute=True,\n",
    "                                show_normed=True,\n",
    "                                colorbar=True)\n",
    "plt.title(\"KNN CM\")\n",
    "plt.show()"
   ]
  },
  {
   "cell_type": "markdown",
   "metadata": {},
   "source": [
    "### Gradient Boost"
   ]
  },
  {
   "cell_type": "code",
   "execution_count": 115,
   "metadata": {},
   "outputs": [],
   "source": [
    "from sklearn.ensemble import GradientBoostingClassifier\n",
    "from sklearn.model_selection import GridSearchCV\n",
    "\n",
    "gbc = GradientBoostingClassifier(random_state=42)\n",
    "boost = {\n",
    "    \"n_estimators\":[1,2,5,10,20,50,100,150,200,500,1000,2000,5000],\n",
    "    \"max_depth\":[1,3,5,7,9],\n",
    "    \"learning_rate\":[0.01,0.1,0.001,0.005,0.9,0.2,0.5]\n",
    "}\n",
    "\n",
    "grid_search_gb = GridSearchCV(gbc,boost,cv=3,verbose=5,scoring=\"f1\",n_jobs=-1)"
   ]
  },
  {
   "cell_type": "code",
   "execution_count": 116,
   "metadata": {},
   "outputs": [
    {
     "name": "stdout",
     "output_type": "stream",
     "text": [
      "Fitting 3 folds for each of 455 candidates, totalling 1365 fits\n"
     ]
    },
    {
     "name": "stderr",
     "output_type": "stream",
     "text": [
      "[Parallel(n_jobs=-1)]: Using backend LokyBackend with 12 concurrent workers.\n",
      "[Parallel(n_jobs=-1)]: Done  82 tasks      | elapsed:    2.1s\n",
      "[Parallel(n_jobs=-1)]: Done 255 tasks      | elapsed:   16.7s\n",
      "[Parallel(n_jobs=-1)]: Done 393 tasks      | elapsed:   24.8s\n",
      "[Parallel(n_jobs=-1)]: Done 558 tasks      | elapsed:   37.7s\n",
      "[Parallel(n_jobs=-1)]: Done 756 tasks      | elapsed:  1.1min\n",
      "[Parallel(n_jobs=-1)]: Done 990 tasks      | elapsed:  1.4min\n",
      "[Parallel(n_jobs=-1)]: Done 1260 tasks      | elapsed:  1.6min\n",
      "[Parallel(n_jobs=-1)]: Done 1365 out of 1365 | elapsed:  1.7min finished\n"
     ]
    },
    {
     "data": {
      "text/plain": [
       "{'learning_rate': 0.9, 'max_depth': 3, 'n_estimators': 1}"
      ]
     },
     "execution_count": 116,
     "metadata": {},
     "output_type": "execute_result"
    }
   ],
   "source": [
    "grid_search_gb.fit(X_train, y_train)\n",
    "grid_search_gb.best_params_"
   ]
  },
  {
   "cell_type": "code",
   "execution_count": 117,
   "metadata": {},
   "outputs": [
    {
     "data": {
      "text/plain": [
       "0.3859911406423034"
      ]
     },
     "execution_count": 117,
     "metadata": {},
     "output_type": "execute_result"
    }
   ],
   "source": [
    "grid_search_gb.best_score_"
   ]
  },
  {
   "cell_type": "code",
   "execution_count": 118,
   "metadata": {},
   "outputs": [
    {
     "data": {
      "text/plain": [
       "0.2702702702702703"
      ]
     },
     "execution_count": 118,
     "metadata": {},
     "output_type": "execute_result"
    }
   ],
   "source": [
    "grid_search_gb.score(X_test,y_test)"
   ]
  },
  {
   "cell_type": "code",
   "execution_count": 119,
   "metadata": {},
   "outputs": [
    {
     "name": "stdout",
     "output_type": "stream",
     "text": [
      "[[63  8]\n",
      " [19  5]]\n"
     ]
    }
   ],
   "source": [
    "# Visualise classical Confusion M0atrix\n",
    "from sklearn.metrics import confusion_matrix\n",
    "gb_grid = grid_search_gb.predict(X_test)\n",
    "gb_cm = confusion_matrix(y_test, gb_grid)\n",
    "\n",
    "print(gb_cm)"
   ]
  },
  {
   "cell_type": "code",
   "execution_count": 120,
   "metadata": {},
   "outputs": [
    {
     "data": {
      "image/png": "[encoded data removed]",
      "text/plain": [
       "<Figure size 432x288 with 2 Axes>"
      ]
     },
     "metadata": {
      "needs_background": "light"
     },
     "output_type": "display_data"
    }
   ],
   "source": [
    "from mlxtend.plotting import plot_confusion_matrix\n",
    "binary = np.array([[63 , 8],\n",
    " [19 , 5]])\n",
    "\n",
    "fig, ax = plot_confusion_matrix(conf_mat=binary,\n",
    "                                show_absolute=True,\n",
    "                                show_normed=True,\n",
    "                                colorbar=True)\n",
    "plt.title(\"Gradient Boost CM\")\n",
    "plt.show()"
   ]
  },
  {
   "cell_type": "markdown",
   "metadata": {},
   "source": [
    "### ROC Curves"
   ]
  },
  {
   "cell_type": "code",
   "execution_count": 83,
   "metadata": {},
   "outputs": [
    {
     "name": "stdout",
     "output_type": "stream",
     "text": [
      "No Skill: ROC AUC=0.500\n",
      "Logistic: ROC AUC=0.629\n",
      "RF: ROC AUC=0.673\n",
      "SVM: ROC AUC=0.690\n"
     ]
    },
    {
     "data": {
      "image/png": "[encoded data removed]",
      "text/plain": [
       "<Figure size 720x504 with 1 Axes>"
      ]
     },
     "metadata": {
      "needs_background": "light"
     },
     "output_type": "display_data"
    }
   ],
   "source": [
    "from sklearn.datasets import make_classification\n",
    "from sklearn.linear_model import LogisticRegression\n",
    "from sklearn.model_selection import train_test_split\n",
    "from sklearn.metrics import roc_curve\n",
    "from sklearn.metrics import roc_auc_score\n",
    "from matplotlib import pyplot\n",
    "\n",
    "pyplot.figure(figsize=(10,7))\n",
    "\n",
    "# generate 3 class dataset\n",
    "ns_probs = [0 for _ in range(len(y_test))]\n",
    "lr_probs = grid_searchlgr.predict_proba(X_test)\n",
    "rf_probs = grid_searchrf.predict_proba(X_test)\n",
    "svm_probs = svmgridsearch.predict_proba(X_test)\n",
    "\n",
    "# keep probabilities for the positive outcome only\n",
    "lr_probs = lr_probs[:, 1]\n",
    "rf_probs = rf_probs[:, 1]\n",
    "svm_probs = svm_probs[:, 1]\n",
    "\n",
    "# calculate scores\n",
    "ns_auc = roc_auc_score(y_test, ns_probs)\n",
    "lr_auc = roc_auc_score(y_test, lr_probs)\n",
    "rf_auc = roc_auc_score(y_test, rf_probs)\n",
    "svm_auc = roc_auc_score(y_test, svm_probs)\n",
    "\n",
    "# summarize scores\n",
    "print('No Skill: ROC AUC=%.3f' % (ns_auc))\n",
    "print('Logistic: ROC AUC=%.3f' % (lr_auc))\n",
    "print('RF: ROC AUC=%.3f' % (rf_auc))\n",
    "print('SVM: ROC AUC=%.3f' % (svm_auc))\n",
    "\n",
    "# calculate roc curves\n",
    "ns_fpr, ns_tpr, _ = roc_curve(y_test, ns_probs)\n",
    "lr_fpr, lr_tpr, _ = roc_curve(y_test, lr_probs)\n",
    "rf_fpr, rf_tpr, _ = roc_curve(y_test, rf_probs)\n",
    "svm_fpr, svm_tpr, _ = roc_curve(y_test, svm_probs)\n",
    "\n",
    "# plot the roc curve for the model\n",
    "pyplot.plot(ns_fpr, ns_tpr, linestyle='--', label='No Skill')\n",
    "pyplot.plot(lr_fpr, lr_tpr, marker='.', label='Logistic')\n",
    "pyplot.plot(rf_fpr, rf_tpr, marker='.', label='Random Forest')\n",
    "pyplot.plot(svm_fpr, svm_tpr, marker='.', label='SVM')\n",
    "\n",
    "# axis labels\n",
    "pyplot.xlabel('False Positive Rate')\n",
    "pyplot.ylabel('True Positive Rate')\n",
    "# show the legend\n",
    "pyplot.legend()\n",
    "# show the plot\n",
    "pyplot.show()"
   ]
  },
  {
   "cell_type": "code",
   "execution_count": 114,
   "metadata": {
    "scrolled": true
   },
   "outputs": [
    {
     "name": "stdout",
     "output_type": "stream",
     "text": [
      "No Skill: ROC AUC=0.500\n",
      "AdaBoost: ROC AUC=0.726\n",
      "KNN: ROC AUC=0.627\n",
      "Gradient Boost: ROC AUC=0.705\n"
     ]
    },
    {
     "data": {
      "image/png": "[encoded data removed]",
      "text/plain": [
       "<Figure size 720x504 with 1 Axes>"
      ]
     },
     "metadata": {
      "needs_background": "light"
     },
     "output_type": "display_data"
    }
   ],
   "source": [
    "from sklearn.datasets import make_classification\n",
    "from sklearn.linear_model import LogisticRegression\n",
    "from sklearn.model_selection import train_test_split\n",
    "from sklearn.metrics import roc_curve\n",
    "from sklearn.metrics import roc_auc_score\n",
    "from matplotlib import pyplot\n",
    "\n",
    "pyplot.figure(figsize=(10,7))\n",
    "ns_probs = [0 for _ in range(len(y_test))]\n",
    "ada_probs = grid_search_ABR.predict_proba(X_test)\n",
    "knn_probs = grid_search_knn.predict_proba(X_test)\n",
    "gb_probs = grid_search_gb.predict_proba(X_test)\n",
    "\n",
    "ada_probs = ada_probs[:, 1]\n",
    "knn_probs = knn_probs[:, 1]\n",
    "gb_probs = gb_probs[:, 1]\n",
    "\n",
    "ns_auc = roc_auc_score(y_test, ns_probs)\n",
    "ada_auc = roc_auc_score(y_test, ada_probs)\n",
    "knn_auc = roc_auc_score(y_test, knn_probs)\n",
    "gb_auc = roc_auc_score(y_test, gb_probs)\n",
    "\n",
    "print('No Skill: ROC AUC=%.3f' % (ns_auc))\n",
    "print('AdaBoost: ROC AUC=%.3f' % (ada_auc))\n",
    "print('KNN: ROC AUC=%.3f' % (knn_auc))\n",
    "print('Gradient Boost: ROC AUC=%.3f' % (gb_auc))\n",
    "\n",
    "ns_fpr, ns_tpr, _ = roc_curve(y_test, ns_probs)\n",
    "ada_fpr, ada_tpr, _ = roc_curve(y_test, ada_probs)\n",
    "knn_fpr, knn_tpr, _ = roc_curve(y_test, knn_probs)\n",
    "gb_fpr, gb_tpr, _ = roc_curve(y_test, gb_probs)\n",
    "\n",
    "pyplot.plot(ns_fpr, ns_tpr, linestyle='--', label='No Skill')\n",
    "pyplot.plot(ada_fpr, ada_tpr, marker='.', label='AdaBoost')\n",
    "pyplot.plot(knn_fpr, knn_tpr, marker='.', label='KNN')\n",
    "pyplot.plot(gb_fpr, gb_tpr, marker='.', label='Gradient Boost')\n",
    "\n",
    "pyplot.xlabel('False Positive Rate')\n",
    "pyplot.ylabel('True Positive Rate')\n",
    "# show the legend\n",
    "pyplot.legend()\n",
    "# show the plot\n",
    "pyplot.show()\n"
   ]
  },
  {
   "cell_type": "code",
   "execution_count": null,
   "metadata": {},
   "outputs": [],
   "source": []
  }
 ],
 "metadata": {
  "colab": {
   "name": "Untitled0.ipynb",
   "provenance": []
  },
  "kernelspec": {
   "display_name": "Python 3",
   "language": "python",
   "name": "python3"
  },
  "language_info": {
   "codemirror_mode": {
    "name": "ipython",
    "version": 3
   },
   "file_extension": ".py",
   "mimetype": "text/x-python",
   "name": "python",
   "nbconvert_exporter": "python",
   "pygments_lexer": "ipython3",
   "version": "3.7.6"
  },
  "toc": {
   "base_numbering": 1,
   "nav_menu": {},
   "number_sections": false,
   "sideBar": false,
   "skip_h1_title": false,
   "title_cell": "Table of Contents",
   "title_sidebar": "Contents",
   "toc_cell": false,
   "toc_position": {},
   "toc_section_display": false,
   "toc_window_display": false
  }
 },
 "nbformat": 4,
 "nbformat_minor": 1
}
