{
  "nbformat": 4,
  "nbformat_minor": 0,
  "metadata": {
    "colab": {
      "name": "Analysis.ipynb",
      "provenance": [],
      "collapsed_sections": []
    },
    "kernelspec": {
      "name": "python3",
      "display_name": "Python 3"
    }
  },
  "cells": [
    {
      "cell_type": "code",
      "metadata": {
        "id": "XY9z6ZPmtRlX",
        "colab_type": "code",
        "outputId": "951de71e-f13b-430e-fa9a-0551822e2684",
        "colab": {
          "base_uri": "https://localhost:8080/",
          "height": 33
        }
      },
      "source": [
        "from google.colab import drive\n",
        "drive.mount('/content/drive')"
      ],
      "execution_count": 0,
      "outputs": [
        {
          "output_type": "stream",
          "text": [
            "Drive already mounted at /content/drive; to attempt to forcibly remount, call drive.mount(\"/content/drive\", force_remount=True).\n"
          ],
          "name": "stdout"
        }
      ]
    },
    {
      "cell_type": "code",
      "metadata": {
        "id": "9y3gkr1KtjIl",
        "colab_type": "code",
        "outputId": "9758322b-58f6-48b2-d160-15f1bc261c76",
        "colab": {
          "base_uri": "https://localhost:8080/",
          "height": 33
        }
      },
      "source": [
        "%pwd"
      ],
      "execution_count": 0,
      "outputs": [
        {
          "output_type": "execute_result",
          "data": {
            "text/plain": [
              "'/content'"
            ]
          },
          "metadata": {
            "tags": []
          },
          "execution_count": 2
        }
      ]
    },
    {
      "cell_type": "code",
      "metadata": {
        "id": "25pVJuFwuSip",
        "colab_type": "code",
        "outputId": "82f6362d-fffc-40bb-f136-98c72ea28335",
        "colab": {
          "base_uri": "https://localhost:8080/",
          "height": 33
        }
      },
      "source": [
        "%cd drive"
      ],
      "execution_count": 0,
      "outputs": [
        {
          "output_type": "stream",
          "text": [
            "/content/drive\n"
          ],
          "name": "stdout"
        }
      ]
    },
    {
      "cell_type": "code",
      "metadata": {
        "id": "3jRVXn6iuUv5",
        "colab_type": "code",
        "outputId": "c06579ba-71b2-439c-c84d-4b66059d48f5",
        "colab": {
          "base_uri": "https://localhost:8080/",
          "height": 33
        }
      },
      "source": [
        "%cd My\\ Drive"
      ],
      "execution_count": 0,
      "outputs": [
        {
          "output_type": "stream",
          "text": [
            "/content/drive/My Drive\n"
          ],
          "name": "stdout"
        }
      ]
    },
    {
      "cell_type": "code",
      "metadata": {
        "id": "HZohiF27uY8u",
        "colab_type": "code",
        "colab": {}
      },
      "source": [
        "import pandas as pd\n",
        "import numpy as np"
      ],
      "execution_count": 0,
      "outputs": []
    },
    {
      "cell_type": "code",
      "metadata": {
        "id": "HGUo6CH1u4Fi",
        "colab_type": "code",
        "colab": {}
      },
      "source": [
        "df=pd.read_csv(\"cgfinal414.csv\")"
      ],
      "execution_count": 0,
      "outputs": []
    },
    {
      "cell_type": "code",
      "metadata": {
        "id": "9y_NVFb6u_IV",
        "colab_type": "code",
        "colab": {}
      },
      "source": [
        "df_cgd=df.iloc[:,:-5]"
      ],
      "execution_count": 0,
      "outputs": []
    },
    {
      "cell_type": "code",
      "metadata": {
        "id": "lOM65QejvcPe",
        "colab_type": "code",
        "colab": {}
      },
      "source": [
        "df_cgd=df_cgd.dropna()"
      ],
      "execution_count": 0,
      "outputs": []
    },
    {
      "cell_type": "code",
      "metadata": {
        "id": "Y-JczJ4tvfED",
        "colab_type": "code",
        "colab": {}
      },
      "source": [
        "df_cgd=df_cgd.drop(['id'],axis=1)"
      ],
      "execution_count": 0,
      "outputs": []
    },
    {
      "cell_type": "code",
      "metadata": {
        "id": "Z6UwnPxK2K_6",
        "colab_type": "code",
        "colab": {}
      },
      "source": [
        "\n",
        "one_hot = pd.get_dummies(df_cgd['StudyArm'])\n",
        "# Drop column B as it is now encoded\n",
        "df_cgd = df_cgd.drop('StudyArm',axis = 1)\n",
        "# Join the encoded df\n",
        "df_cgd = df_cgd.join(one_hot)"
      ],
      "execution_count": 0,
      "outputs": []
    },
    {
      "cell_type": "code",
      "metadata": {
        "id": "T_ocEBIOvrHD",
        "colab_type": "code",
        "colab": {}
      },
      "source": [
        "dtrain=df_cgd\n",
        "\n",
        "features_selected = [ 'Control','GA', 'Age', 'Gender', 'gradecat', 'incomecat',\n",
        "       'racecat', 'Living', 'relationship_cat', 'GI_Lung', 'TTC3', 'TTC5',\n",
        "       'TTC6a', 'TTC6b', 'TTC6c', 'TTC6d', 'distress',\n",
        "       'ImpairedPolypharmacy', 'cognition', 'nutrition',\n",
        "       'phy_performance', 'function', 'ImpairedCom', 'psychological',\n",
        "       'ImpairedMS', 'calcimpairedCom', 'cgdistress']\n",
        "#for now we use all the features for regression\n",
        "#features_selected=[features_selected[i] for i in [38,42,45,47,5,19,13,22,25,20]]\n",
        "\n",
        "Xtrain = []\n",
        "for i in features_selected:\n",
        "    Xtrain.append(dtrain[i].values)\n",
        "\n",
        "Xtrain = np.array(Xtrain)\n",
        "Xtrain=Xtrain.T\n",
        "predicted_feature = ['cgdistress']\n",
        "Ytrain= []\n",
        "for i in predicted_feature:\n",
        "    Ytrain.append(dtrain[i].values)\n",
        "\n",
        "\n",
        "Ytrain = np.array(Ytrain)\n",
        "Ytrain=Ytrain.T.ravel()\n",
        "\n",
        "# Xtest = []\n",
        "# for i in features_selected:\n",
        "#     Xtest.append(dtest[i].values)\n",
        "\n",
        "# Xtest = np.array(Xtest)\n",
        "# Xtest=Xtest.T\n",
        "# predicted_feature = ['def_total']\n",
        "# Ytest= []\n",
        "# for i in predicted_feature:\n",
        "#     Ytest.append(dtest[i].values)\n",
        "\n",
        "\n",
        "# Ytest = np.array(Ytest)\n",
        "# Ytest=Ytest.T.ravel()"
      ],
      "execution_count": 0,
      "outputs": []
    },
    {
      "cell_type": "code",
      "metadata": {
        "id": "S4bvAxjYvsgV",
        "colab_type": "code",
        "outputId": "11913f15-1736-496f-9650-ec5577dc05b4",
        "colab": {
          "base_uri": "https://localhost:8080/",
          "height": 33
        }
      },
      "source": [
        "Ytrain.shape"
      ],
      "execution_count": 0,
      "outputs": [
        {
          "output_type": "execute_result",
          "data": {
            "text/plain": [
              "(398,)"
            ]
          },
          "metadata": {
            "tags": []
          },
          "execution_count": 12
        }
      ]
    },
    {
      "cell_type": "code",
      "metadata": {
        "id": "DEGllkhE3-us",
        "colab_type": "code",
        "colab": {}
      },
      "source": [
        ""
      ],
      "execution_count": 0,
      "outputs": []
    },
    {
      "cell_type": "code",
      "metadata": {
        "colab_type": "code",
        "outputId": "084b9f27-1cc9-425d-b440-c37901940ff5",
        "id": "xjrPnbJb3_fh",
        "colab": {
          "base_uri": "https://localhost:8080/",
          "height": 933
        }
      },
      "source": [
        "from sklearn.ensemble import RandomForestClassifier as RF\n",
        "\n",
        "from sklearn.model_selection import GridSearchCV\n",
        "model = RF(n_jobs=-1, random_state=42, verbose=2)\n",
        "\n",
        "grid = {\n",
        "        'max_features': [0.07,0.15, 0.25],\n",
        "        'n_estimators': [10,25,45, 60,110, 148, 200],\n",
        "        'min_samples_split': [2, 5, 8, 12]\n",
        "       }\n",
        "\n",
        "rf_gridsearch = GridSearchCV(estimator=model, param_grid=grid, n_jobs=5, \n",
        "                             cv=5, verbose=5, return_train_score=True,scoring=\"accuracy\")\n",
        "\n",
        "rf_gridsearch.fit(Xtrain,Ytrain)\n",
        "\n",
        "df_gridsearch = pd.DataFrame(rf_gridsearch.cv_results_)"
      ],
      "execution_count": 0,
      "outputs": [
        {
          "output_type": "stream",
          "text": [
            "Fitting 5 folds for each of 84 candidates, totalling 420 fits\n"
          ],
          "name": "stdout"
        },
        {
          "output_type": "stream",
          "text": [
            "[Parallel(n_jobs=5)]: Using backend LokyBackend with 5 concurrent workers.\n",
            "[Parallel(n_jobs=5)]: Done   8 tasks      | elapsed:    2.8s\n",
            "[Parallel(n_jobs=5)]: Done  62 tasks      | elapsed:   11.2s\n",
            "[Parallel(n_jobs=5)]: Done 152 tasks      | elapsed:   24.1s\n",
            "[Parallel(n_jobs=5)]: Done 278 tasks      | elapsed:   45.2s\n"
          ],
          "name": "stderr"
        },
        {
          "output_type": "stream",
          "text": [
            "building tree 1 of 45building tree 4 of 45\n",
            "\n",
            "building tree 2 of 45\n",
            "building tree 3 of 45\n",
            "building tree 5 of 45\n",
            "building tree 6 of 45\n",
            "building tree 7 of 45\n",
            "building tree 8 of 45\n",
            "building tree 9 of 45\n",
            "building tree 10 of 45\n",
            "building tree 11 of 45\n",
            "building tree 12 of 45\n",
            "building tree 13 of 45\n",
            "building tree 14 of 45\n",
            "building tree 15 of 45\n",
            "building tree 16 of 45building tree 17 of 45\n",
            "\n",
            "building tree 18 of 45\n",
            "building tree 19 of 45\n",
            "building tree 20 of 45building tree 21 of 45\n",
            "\n",
            "building tree 22 of 45\n",
            "building tree 23 of 45\n",
            "building tree 24 of 45\n",
            "building tree 25 of 45\n",
            "building tree 26 of 45\n",
            "building tree 27 of 45building tree 28 of 45\n",
            "\n",
            "building tree 29 of 45building tree 30 of 45\n",
            "\n",
            "building tree 31 of 45\n",
            "building tree 32 of 45\n",
            "building tree 33 of 45\n",
            "building tree 34 of 45\n",
            "building tree 35 of 45\n",
            "building tree 36 of 45\n",
            "building tree 37 of 45\n",
            "building tree 38 of 45\n",
            "building tree 39 of 45\n",
            "building tree 40 of 45\n",
            "building tree 41 of 45\n",
            "building tree 42 of 45\n",
            "building tree 43 of 45\n",
            "building tree 44 of 45\n",
            "building tree 45 of 45\n"
          ],
          "name": "stdout"
        },
        {
          "output_type": "stream",
          "text": [
            "[Parallel(n_jobs=5)]: Done 420 out of 420 | elapsed:  1.1min finished\n",
            "[Parallel(n_jobs=-1)]: Using backend ThreadingBackend with 2 concurrent workers.\n",
            "[Parallel(n_jobs=-1)]: Done  37 tasks      | elapsed:    0.1s\n",
            "[Parallel(n_jobs=-1)]: Done  45 out of  45 | elapsed:    0.1s finished\n"
          ],
          "name": "stderr"
        }
      ]
    },
    {
      "cell_type": "code",
      "metadata": {
        "id": "klkR9CGh4Ln4",
        "colab_type": "code",
        "outputId": "744d09f3-45ed-46b2-82ca-9b343e0dc2bf",
        "colab": {
          "base_uri": "https://localhost:8080/",
          "height": 926
        }
      },
      "source": [
        "df_gridsearch"
      ],
      "execution_count": 0,
      "outputs": [
        {
          "output_type": "execute_result",
          "data": {
            "text/html": [
              "<div>\n",
              "<style scoped>\n",
              "    .dataframe tbody tr th:only-of-type {\n",
              "        vertical-align: middle;\n",
              "    }\n",
              "\n",
              "    .dataframe tbody tr th {\n",
              "        vertical-align: top;\n",
              "    }\n",
              "\n",
              "    .dataframe thead th {\n",
              "        text-align: right;\n",
              "    }\n",
              "</style>\n",
              "<table border=\"1\" class=\"dataframe\">\n",
              "  <thead>\n",
              "    <tr style=\"text-align: right;\">\n",
              "      <th></th>\n",
              "      <th>mean_fit_time</th>\n",
              "      <th>std_fit_time</th>\n",
              "      <th>mean_score_time</th>\n",
              "      <th>std_score_time</th>\n",
              "      <th>param_max_features</th>\n",
              "      <th>param_min_samples_split</th>\n",
              "      <th>param_n_estimators</th>\n",
              "      <th>params</th>\n",
              "      <th>split0_test_score</th>\n",
              "      <th>split1_test_score</th>\n",
              "      <th>split2_test_score</th>\n",
              "      <th>split3_test_score</th>\n",
              "      <th>split4_test_score</th>\n",
              "      <th>mean_test_score</th>\n",
              "      <th>std_test_score</th>\n",
              "      <th>rank_test_score</th>\n",
              "      <th>split0_train_score</th>\n",
              "      <th>split1_train_score</th>\n",
              "      <th>split2_train_score</th>\n",
              "      <th>split3_train_score</th>\n",
              "      <th>split4_train_score</th>\n",
              "      <th>mean_train_score</th>\n",
              "      <th>std_train_score</th>\n",
              "    </tr>\n",
              "  </thead>\n",
              "  <tbody>\n",
              "    <tr>\n",
              "      <th>0</th>\n",
              "      <td>0.131444</td>\n",
              "      <td>0.018653</td>\n",
              "      <td>0.105998</td>\n",
              "      <td>0.004261</td>\n",
              "      <td>0.07</td>\n",
              "      <td>2</td>\n",
              "      <td>10</td>\n",
              "      <td>{'max_features': 0.07, 'min_samples_split': 2,...</td>\n",
              "      <td>0.9250</td>\n",
              "      <td>0.8250</td>\n",
              "      <td>0.850</td>\n",
              "      <td>0.835443</td>\n",
              "      <td>0.873418</td>\n",
              "      <td>0.861772</td>\n",
              "      <td>0.035545</td>\n",
              "      <td>84</td>\n",
              "      <td>1.0</td>\n",
              "      <td>0.996855</td>\n",
              "      <td>0.993711</td>\n",
              "      <td>0.99373</td>\n",
              "      <td>0.996865</td>\n",
              "      <td>0.996232</td>\n",
              "      <td>0.00235</td>\n",
              "    </tr>\n",
              "    <tr>\n",
              "      <th>1</th>\n",
              "      <td>0.123101</td>\n",
              "      <td>0.006395</td>\n",
              "      <td>0.109664</td>\n",
              "      <td>0.002818</td>\n",
              "      <td>0.07</td>\n",
              "      <td>2</td>\n",
              "      <td>25</td>\n",
              "      <td>{'max_features': 0.07, 'min_samples_split': 2,...</td>\n",
              "      <td>0.9625</td>\n",
              "      <td>0.9250</td>\n",
              "      <td>0.975</td>\n",
              "      <td>0.962025</td>\n",
              "      <td>0.962025</td>\n",
              "      <td>0.957310</td>\n",
              "      <td>0.016901</td>\n",
              "      <td>73</td>\n",
              "      <td>1.0</td>\n",
              "      <td>1.000000</td>\n",
              "      <td>1.000000</td>\n",
              "      <td>1.00000</td>\n",
              "      <td>1.000000</td>\n",
              "      <td>1.000000</td>\n",
              "      <td>0.00000</td>\n",
              "    </tr>\n",
              "    <tr>\n",
              "      <th>2</th>\n",
              "      <td>0.209546</td>\n",
              "      <td>0.042899</td>\n",
              "      <td>0.117708</td>\n",
              "      <td>0.007732</td>\n",
              "      <td>0.07</td>\n",
              "      <td>2</td>\n",
              "      <td>45</td>\n",
              "      <td>{'max_features': 0.07, 'min_samples_split': 2,...</td>\n",
              "      <td>0.9875</td>\n",
              "      <td>0.9625</td>\n",
              "      <td>0.975</td>\n",
              "      <td>0.949367</td>\n",
              "      <td>0.962025</td>\n",
              "      <td>0.967278</td>\n",
              "      <td>0.012960</td>\n",
              "      <td>68</td>\n",
              "      <td>1.0</td>\n",
              "      <td>1.000000</td>\n",
              "      <td>1.000000</td>\n",
              "      <td>1.00000</td>\n",
              "      <td>1.000000</td>\n",
              "      <td>1.000000</td>\n",
              "      <td>0.00000</td>\n",
              "    </tr>\n",
              "    <tr>\n",
              "      <th>3</th>\n",
              "      <td>0.303973</td>\n",
              "      <td>0.046878</td>\n",
              "      <td>0.117751</td>\n",
              "      <td>0.007475</td>\n",
              "      <td>0.07</td>\n",
              "      <td>2</td>\n",
              "      <td>60</td>\n",
              "      <td>{'max_features': 0.07, 'min_samples_split': 2,...</td>\n",
              "      <td>0.9625</td>\n",
              "      <td>0.9500</td>\n",
              "      <td>0.975</td>\n",
              "      <td>0.936709</td>\n",
              "      <td>0.949367</td>\n",
              "      <td>0.954715</td>\n",
              "      <td>0.013016</td>\n",
              "      <td>77</td>\n",
              "      <td>1.0</td>\n",
              "      <td>1.000000</td>\n",
              "      <td>1.000000</td>\n",
              "      <td>1.00000</td>\n",
              "      <td>1.000000</td>\n",
              "      <td>1.000000</td>\n",
              "      <td>0.00000</td>\n",
              "    </tr>\n",
              "    <tr>\n",
              "      <th>4</th>\n",
              "      <td>0.605665</td>\n",
              "      <td>0.109159</td>\n",
              "      <td>0.118481</td>\n",
              "      <td>0.008485</td>\n",
              "      <td>0.07</td>\n",
              "      <td>2</td>\n",
              "      <td>110</td>\n",
              "      <td>{'max_features': 0.07, 'min_samples_split': 2,...</td>\n",
              "      <td>0.9750</td>\n",
              "      <td>0.9750</td>\n",
              "      <td>0.975</td>\n",
              "      <td>0.949367</td>\n",
              "      <td>0.974684</td>\n",
              "      <td>0.969810</td>\n",
              "      <td>0.010222</td>\n",
              "      <td>63</td>\n",
              "      <td>1.0</td>\n",
              "      <td>1.000000</td>\n",
              "      <td>1.000000</td>\n",
              "      <td>1.00000</td>\n",
              "      <td>1.000000</td>\n",
              "      <td>1.000000</td>\n",
              "      <td>0.00000</td>\n",
              "    </tr>\n",
              "    <tr>\n",
              "      <th>...</th>\n",
              "      <td>...</td>\n",
              "      <td>...</td>\n",
              "      <td>...</td>\n",
              "      <td>...</td>\n",
              "      <td>...</td>\n",
              "      <td>...</td>\n",
              "      <td>...</td>\n",
              "      <td>...</td>\n",
              "      <td>...</td>\n",
              "      <td>...</td>\n",
              "      <td>...</td>\n",
              "      <td>...</td>\n",
              "      <td>...</td>\n",
              "      <td>...</td>\n",
              "      <td>...</td>\n",
              "      <td>...</td>\n",
              "      <td>...</td>\n",
              "      <td>...</td>\n",
              "      <td>...</td>\n",
              "      <td>...</td>\n",
              "      <td>...</td>\n",
              "      <td>...</td>\n",
              "      <td>...</td>\n",
              "    </tr>\n",
              "    <tr>\n",
              "      <th>79</th>\n",
              "      <td>0.190946</td>\n",
              "      <td>0.065034</td>\n",
              "      <td>0.112388</td>\n",
              "      <td>0.009685</td>\n",
              "      <td>0.25</td>\n",
              "      <td>12</td>\n",
              "      <td>45</td>\n",
              "      <td>{'max_features': 0.25, 'min_samples_split': 12...</td>\n",
              "      <td>1.0000</td>\n",
              "      <td>1.0000</td>\n",
              "      <td>1.000</td>\n",
              "      <td>1.000000</td>\n",
              "      <td>1.000000</td>\n",
              "      <td>1.000000</td>\n",
              "      <td>0.000000</td>\n",
              "      <td>1</td>\n",
              "      <td>1.0</td>\n",
              "      <td>1.000000</td>\n",
              "      <td>1.000000</td>\n",
              "      <td>1.00000</td>\n",
              "      <td>1.000000</td>\n",
              "      <td>1.000000</td>\n",
              "      <td>0.00000</td>\n",
              "    </tr>\n",
              "    <tr>\n",
              "      <th>80</th>\n",
              "      <td>0.340690</td>\n",
              "      <td>0.108746</td>\n",
              "      <td>0.107188</td>\n",
              "      <td>0.003519</td>\n",
              "      <td>0.25</td>\n",
              "      <td>12</td>\n",
              "      <td>60</td>\n",
              "      <td>{'max_features': 0.25, 'min_samples_split': 12...</td>\n",
              "      <td>1.0000</td>\n",
              "      <td>1.0000</td>\n",
              "      <td>1.000</td>\n",
              "      <td>1.000000</td>\n",
              "      <td>1.000000</td>\n",
              "      <td>1.000000</td>\n",
              "      <td>0.000000</td>\n",
              "      <td>1</td>\n",
              "      <td>1.0</td>\n",
              "      <td>1.000000</td>\n",
              "      <td>1.000000</td>\n",
              "      <td>1.00000</td>\n",
              "      <td>1.000000</td>\n",
              "      <td>1.000000</td>\n",
              "      <td>0.00000</td>\n",
              "    </tr>\n",
              "    <tr>\n",
              "      <th>81</th>\n",
              "      <td>0.602014</td>\n",
              "      <td>0.073838</td>\n",
              "      <td>0.124452</td>\n",
              "      <td>0.009530</td>\n",
              "      <td>0.25</td>\n",
              "      <td>12</td>\n",
              "      <td>110</td>\n",
              "      <td>{'max_features': 0.25, 'min_samples_split': 12...</td>\n",
              "      <td>1.0000</td>\n",
              "      <td>1.0000</td>\n",
              "      <td>1.000</td>\n",
              "      <td>1.000000</td>\n",
              "      <td>1.000000</td>\n",
              "      <td>1.000000</td>\n",
              "      <td>0.000000</td>\n",
              "      <td>1</td>\n",
              "      <td>1.0</td>\n",
              "      <td>1.000000</td>\n",
              "      <td>1.000000</td>\n",
              "      <td>1.00000</td>\n",
              "      <td>1.000000</td>\n",
              "      <td>1.000000</td>\n",
              "      <td>0.00000</td>\n",
              "    </tr>\n",
              "    <tr>\n",
              "      <th>82</th>\n",
              "      <td>1.084371</td>\n",
              "      <td>0.241009</td>\n",
              "      <td>0.173946</td>\n",
              "      <td>0.054228</td>\n",
              "      <td>0.25</td>\n",
              "      <td>12</td>\n",
              "      <td>148</td>\n",
              "      <td>{'max_features': 0.25, 'min_samples_split': 12...</td>\n",
              "      <td>1.0000</td>\n",
              "      <td>1.0000</td>\n",
              "      <td>1.000</td>\n",
              "      <td>1.000000</td>\n",
              "      <td>1.000000</td>\n",
              "      <td>1.000000</td>\n",
              "      <td>0.000000</td>\n",
              "      <td>1</td>\n",
              "      <td>1.0</td>\n",
              "      <td>1.000000</td>\n",
              "      <td>1.000000</td>\n",
              "      <td>1.00000</td>\n",
              "      <td>1.000000</td>\n",
              "      <td>1.000000</td>\n",
              "      <td>0.00000</td>\n",
              "    </tr>\n",
              "    <tr>\n",
              "      <th>83</th>\n",
              "      <td>1.265032</td>\n",
              "      <td>0.056431</td>\n",
              "      <td>0.158286</td>\n",
              "      <td>0.055369</td>\n",
              "      <td>0.25</td>\n",
              "      <td>12</td>\n",
              "      <td>200</td>\n",
              "      <td>{'max_features': 0.25, 'min_samples_split': 12...</td>\n",
              "      <td>1.0000</td>\n",
              "      <td>1.0000</td>\n",
              "      <td>1.000</td>\n",
              "      <td>1.000000</td>\n",
              "      <td>1.000000</td>\n",
              "      <td>1.000000</td>\n",
              "      <td>0.000000</td>\n",
              "      <td>1</td>\n",
              "      <td>1.0</td>\n",
              "      <td>1.000000</td>\n",
              "      <td>1.000000</td>\n",
              "      <td>1.00000</td>\n",
              "      <td>1.000000</td>\n",
              "      <td>1.000000</td>\n",
              "      <td>0.00000</td>\n",
              "    </tr>\n",
              "  </tbody>\n",
              "</table>\n",
              "<p>84 rows × 23 columns</p>\n",
              "</div>"
            ],
            "text/plain": [
              "    mean_fit_time  std_fit_time  ...  mean_train_score  std_train_score\n",
              "0        0.131444      0.018653  ...          0.996232          0.00235\n",
              "1        0.123101      0.006395  ...          1.000000          0.00000\n",
              "2        0.209546      0.042899  ...          1.000000          0.00000\n",
              "3        0.303973      0.046878  ...          1.000000          0.00000\n",
              "4        0.605665      0.109159  ...          1.000000          0.00000\n",
              "..            ...           ...  ...               ...              ...\n",
              "79       0.190946      0.065034  ...          1.000000          0.00000\n",
              "80       0.340690      0.108746  ...          1.000000          0.00000\n",
              "81       0.602014      0.073838  ...          1.000000          0.00000\n",
              "82       1.084371      0.241009  ...          1.000000          0.00000\n",
              "83       1.265032      0.056431  ...          1.000000          0.00000\n",
              "\n",
              "[84 rows x 23 columns]"
            ]
          },
          "metadata": {
            "tags": []
          },
          "execution_count": 40
        }
      ]
    },
    {
      "cell_type": "code",
      "metadata": {
        "id": "jtD9ryXvwUjo",
        "colab_type": "code",
        "outputId": "8bdf4d09-d779-4854-9e80-d2a67d70fef2",
        "colab": {
          "base_uri": "https://localhost:8080/",
          "height": 1000
        }
      },
      "source": [
        "from sklearn.ensemble import RandomForestClassifier as RF\n",
        "\n",
        "from sklearn.model_selection import GridSearchCV\n",
        "model = RF(n_jobs=-1, random_state=42, verbose=2)\n",
        "\n",
        "grid = {\n",
        "        'max_features': [0.07,0.13, 0.15, 0.25,'auto','sqrt'],\n",
        "        'n_estimators': [10,25,45, 60,110, 148, 200],\n",
        "        'min_samples_split': [2, 3, 5, 8, 12],\n",
        "         'min_samples_leaf': [1, 2, 4,8],\n",
        "        'bootstrap': [True, False],\n",
        "        'max_depth': [10, 20,40, 60]\n",
        "       }\n",
        "\n",
        "rf_gridsearch = GridSearchCV(estimator=model, param_grid=grid, n_jobs=5, \n",
        "                             cv=5, verbose=5, return_train_score=True,scoring=\"accuracy\")\n",
        "\n",
        "rf_gridsearch.fit(Xtrain,Ytrain)\n",
        "\n",
        "df_gridsearch1 = pd.DataFrame(rf_gridsearch.cv_results_)"
      ],
      "execution_count": 0,
      "outputs": [
        {
          "output_type": "stream",
          "text": [
            "Fitting 5 folds for each of 6720 candidates, totalling 33600 fits\n"
          ],
          "name": "stdout"
        },
        {
          "output_type": "stream",
          "text": [
            "[Parallel(n_jobs=5)]: Using backend LokyBackend with 5 concurrent workers.\n",
            "[Parallel(n_jobs=5)]: Done   8 tasks      | elapsed:    0.8s\n",
            "[Parallel(n_jobs=5)]: Done  62 tasks      | elapsed:    9.7s\n",
            "[Parallel(n_jobs=5)]: Done 152 tasks      | elapsed:   22.8s\n",
            "[Parallel(n_jobs=5)]: Done 278 tasks      | elapsed:   43.1s\n",
            "[Parallel(n_jobs=5)]: Done 440 tasks      | elapsed:  1.1min\n",
            "[Parallel(n_jobs=5)]: Done 638 tasks      | elapsed:  1.6min\n",
            "[Parallel(n_jobs=5)]: Done 872 tasks      | elapsed:  2.2min\n",
            "[Parallel(n_jobs=5)]: Done 1142 tasks      | elapsed:  2.9min\n",
            "[Parallel(n_jobs=5)]: Done 1448 tasks      | elapsed:  3.7min\n",
            "[Parallel(n_jobs=5)]: Done 1790 tasks      | elapsed:  4.6min\n",
            "[Parallel(n_jobs=5)]: Done 2168 tasks      | elapsed:  5.5min\n",
            "[Parallel(n_jobs=5)]: Done 2582 tasks      | elapsed:  6.6min\n",
            "[Parallel(n_jobs=5)]: Done 3032 tasks      | elapsed:  7.7min\n",
            "[Parallel(n_jobs=5)]: Done 3518 tasks      | elapsed:  9.0min\n",
            "[Parallel(n_jobs=5)]: Done 4040 tasks      | elapsed: 10.3min\n",
            "[Parallel(n_jobs=5)]: Done 4598 tasks      | elapsed: 11.8min\n",
            "[Parallel(n_jobs=5)]: Done 5192 tasks      | elapsed: 13.3min\n",
            "[Parallel(n_jobs=5)]: Done 5822 tasks      | elapsed: 14.9min\n",
            "[Parallel(n_jobs=5)]: Done 6488 tasks      | elapsed: 16.6min\n",
            "[Parallel(n_jobs=5)]: Done 7190 tasks      | elapsed: 18.3min\n",
            "[Parallel(n_jobs=5)]: Done 7928 tasks      | elapsed: 20.2min\n",
            "[Parallel(n_jobs=5)]: Done 8702 tasks      | elapsed: 22.1min\n",
            "[Parallel(n_jobs=5)]: Done 9512 tasks      | elapsed: 24.1min\n",
            "[Parallel(n_jobs=5)]: Done 10358 tasks      | elapsed: 26.3min\n",
            "[Parallel(n_jobs=5)]: Done 11240 tasks      | elapsed: 28.5min\n",
            "[Parallel(n_jobs=5)]: Done 12158 tasks      | elapsed: 30.8min\n",
            "[Parallel(n_jobs=5)]: Done 13112 tasks      | elapsed: 33.2min\n",
            "[Parallel(n_jobs=5)]: Done 14102 tasks      | elapsed: 35.7min\n",
            "[Parallel(n_jobs=5)]: Done 15128 tasks      | elapsed: 38.3min\n",
            "[Parallel(n_jobs=5)]: Done 16190 tasks      | elapsed: 41.0min\n",
            "[Parallel(n_jobs=5)]: Done 17288 tasks      | elapsed: 43.7min\n",
            "[Parallel(n_jobs=5)]: Done 18422 tasks      | elapsed: 46.1min\n",
            "[Parallel(n_jobs=5)]: Done 19592 tasks      | elapsed: 48.7min\n",
            "[Parallel(n_jobs=5)]: Done 20798 tasks      | elapsed: 51.3min\n",
            "[Parallel(n_jobs=5)]: Done 22040 tasks      | elapsed: 54.0min\n",
            "[Parallel(n_jobs=5)]: Done 23318 tasks      | elapsed: 56.7min\n",
            "[Parallel(n_jobs=5)]: Done 24632 tasks      | elapsed: 59.6min\n",
            "[Parallel(n_jobs=5)]: Done 25982 tasks      | elapsed: 62.5min\n",
            "[Parallel(n_jobs=5)]: Done 27368 tasks      | elapsed: 65.5min\n",
            "[Parallel(n_jobs=5)]: Done 28790 tasks      | elapsed: 68.5min\n",
            "[Parallel(n_jobs=5)]: Done 30248 tasks      | elapsed: 71.7min\n",
            "[Parallel(n_jobs=5)]: Done 31742 tasks      | elapsed: 74.9min\n",
            "[Parallel(n_jobs=5)]: Done 33272 tasks      | elapsed: 78.2min\n",
            "[Parallel(n_jobs=5)]: Done 33600 out of 33600 | elapsed: 78.9min finished\n",
            "[Parallel(n_jobs=-1)]: Using backend ThreadingBackend with 2 concurrent workers.\n"
          ],
          "name": "stderr"
        },
        {
          "output_type": "stream",
          "text": [
            "building tree 1 of 45building tree 2 of 45\n",
            "\n",
            "building tree 3 of 45\n",
            "building tree 4 of 45\n",
            "building tree 5 of 45\n",
            "building tree 6 of 45\n",
            "building tree 7 of 45\n",
            "building tree 8 of 45\n",
            "building tree 9 of 45\n",
            "building tree 10 of 45\n",
            "building tree 11 of 45\n",
            "building tree 12 of 45building tree 13 of 45\n",
            "\n",
            "building tree 14 of 45\n",
            "building tree 15 of 45\n",
            "building tree 16 of 45\n",
            "building tree 17 of 45\n",
            "building tree 18 of 45\n",
            "building tree 19 of 45\n",
            "building tree 20 of 45\n",
            "building tree 21 of 45\n",
            "building tree 22 of 45\n",
            "building tree 23 of 45\n",
            "building tree 24 of 45\n",
            "building tree 25 of 45\n",
            "building tree 26 of 45building tree 27 of 45\n",
            "\n",
            "building tree 28 of 45building tree 29 of 45\n",
            "\n",
            "building tree 30 of 45\n",
            "building tree 31 of 45\n",
            "building tree 32 of 45\n",
            "building tree 33 of 45\n",
            "building tree 34 of 45\n",
            "building tree 35 of 45\n",
            "building tree 36 of 45\n",
            "building tree 37 of 45\n",
            "building tree 38 of 45\n",
            "building tree 39 of 45\n",
            "building tree 40 of 45\n",
            "building tree 41 of 45\n",
            "building tree 42 of 45\n",
            "building tree 43 of 45\n",
            "building tree 44 of 45\n",
            "building tree 45 of 45\n"
          ],
          "name": "stdout"
        },
        {
          "output_type": "stream",
          "text": [
            "[Parallel(n_jobs=-1)]: Done  37 tasks      | elapsed:    0.1s\n",
            "[Parallel(n_jobs=-1)]: Done  45 out of  45 | elapsed:    0.1s finished\n"
          ],
          "name": "stderr"
        }
      ]
    },
    {
      "cell_type": "code",
      "metadata": {
        "id": "kL1NKjjQwV0M",
        "colab_type": "code",
        "colab": {}
      },
      "source": [
        ""
      ],
      "execution_count": 0,
      "outputs": []
    },
    {
      "cell_type": "code",
      "metadata": {
        "colab_type": "code",
        "outputId": "8bdf4d09-d779-4854-9e80-d2a67d70fef2",
        "id": "WzrVDPtJVClt",
        "colab": {
          "base_uri": "https://localhost:8080/",
          "height": 1000
        }
      },
      "source": [
        "from sklearn.ensemble import RandomForestClassifier as RF\n",
        "\n",
        "from sklearn.model_selection import GridSearchCV\n",
        "model = RF(n_jobs=-1, random_state=42, verbose=2)\n",
        "\n",
        "grid = {\n",
        "        'max_features': [0.07,0.13, 0.15, 0.25,'auto','sqrt'],\n",
        "        'n_estimators': [10,25,45, 60,110, 148, 200],\n",
        "        'min_samples_split': [2, 3, 5, 8, 12],\n",
        "         'min_samples_leaf': [1, 2, 4,8],\n",
        "        'bootstrap': [True, False],\n",
        "        'max_depth': [10, 20,40, 60]\n",
        "       }\n",
        "\n",
        "rf_gridsearch = GridSearchCV(estimator=model, param_grid=grid, n_jobs=5, \n",
        "                             cv=5, verbose=5, return_train_score=True,scoring=\"accuracy\")\n",
        "\n",
        "rf_gridsearch.fit(Xtrain,Ytrain)\n",
        "\n",
        "df_gridsearch1 = pd.DataFrame(rf_gridsearch.cv_results_)"
      ],
      "execution_count": 0,
      "outputs": [
        {
          "output_type": "stream",
          "text": [
            "Fitting 5 folds for each of 6720 candidates, totalling 33600 fits\n"
          ],
          "name": "stdout"
        },
        {
          "output_type": "stream",
          "text": [
            "[Parallel(n_jobs=5)]: Using backend LokyBackend with 5 concurrent workers.\n",
            "[Parallel(n_jobs=5)]: Done   8 tasks      | elapsed:    0.8s\n",
            "[Parallel(n_jobs=5)]: Done  62 tasks      | elapsed:    9.7s\n",
            "[Parallel(n_jobs=5)]: Done 152 tasks      | elapsed:   22.8s\n",
            "[Parallel(n_jobs=5)]: Done 278 tasks      | elapsed:   43.1s\n",
            "[Parallel(n_jobs=5)]: Done 440 tasks      | elapsed:  1.1min\n",
            "[Parallel(n_jobs=5)]: Done 638 tasks      | elapsed:  1.6min\n",
            "[Parallel(n_jobs=5)]: Done 872 tasks      | elapsed:  2.2min\n",
            "[Parallel(n_jobs=5)]: Done 1142 tasks      | elapsed:  2.9min\n",
            "[Parallel(n_jobs=5)]: Done 1448 tasks      | elapsed:  3.7min\n",
            "[Parallel(n_jobs=5)]: Done 1790 tasks      | elapsed:  4.6min\n",
            "[Parallel(n_jobs=5)]: Done 2168 tasks      | elapsed:  5.5min\n",
            "[Parallel(n_jobs=5)]: Done 2582 tasks      | elapsed:  6.6min\n",
            "[Parallel(n_jobs=5)]: Done 3032 tasks      | elapsed:  7.7min\n",
            "[Parallel(n_jobs=5)]: Done 3518 tasks      | elapsed:  9.0min\n",
            "[Parallel(n_jobs=5)]: Done 4040 tasks      | elapsed: 10.3min\n",
            "[Parallel(n_jobs=5)]: Done 4598 tasks      | elapsed: 11.8min\n",
            "[Parallel(n_jobs=5)]: Done 5192 tasks      | elapsed: 13.3min\n",
            "[Parallel(n_jobs=5)]: Done 5822 tasks      | elapsed: 14.9min\n",
            "[Parallel(n_jobs=5)]: Done 6488 tasks      | elapsed: 16.6min\n",
            "[Parallel(n_jobs=5)]: Done 7190 tasks      | elapsed: 18.3min\n",
            "[Parallel(n_jobs=5)]: Done 7928 tasks      | elapsed: 20.2min\n",
            "[Parallel(n_jobs=5)]: Done 8702 tasks      | elapsed: 22.1min\n",
            "[Parallel(n_jobs=5)]: Done 9512 tasks      | elapsed: 24.1min\n",
            "[Parallel(n_jobs=5)]: Done 10358 tasks      | elapsed: 26.3min\n",
            "[Parallel(n_jobs=5)]: Done 11240 tasks      | elapsed: 28.5min\n",
            "[Parallel(n_jobs=5)]: Done 12158 tasks      | elapsed: 30.8min\n",
            "[Parallel(n_jobs=5)]: Done 13112 tasks      | elapsed: 33.2min\n",
            "[Parallel(n_jobs=5)]: Done 14102 tasks      | elapsed: 35.7min\n",
            "[Parallel(n_jobs=5)]: Done 15128 tasks      | elapsed: 38.3min\n",
            "[Parallel(n_jobs=5)]: Done 16190 tasks      | elapsed: 41.0min\n",
            "[Parallel(n_jobs=5)]: Done 17288 tasks      | elapsed: 43.7min\n",
            "[Parallel(n_jobs=5)]: Done 18422 tasks      | elapsed: 46.1min\n",
            "[Parallel(n_jobs=5)]: Done 19592 tasks      | elapsed: 48.7min\n",
            "[Parallel(n_jobs=5)]: Done 20798 tasks      | elapsed: 51.3min\n",
            "[Parallel(n_jobs=5)]: Done 22040 tasks      | elapsed: 54.0min\n",
            "[Parallel(n_jobs=5)]: Done 23318 tasks      | elapsed: 56.7min\n",
            "[Parallel(n_jobs=5)]: Done 24632 tasks      | elapsed: 59.6min\n",
            "[Parallel(n_jobs=5)]: Done 25982 tasks      | elapsed: 62.5min\n",
            "[Parallel(n_jobs=5)]: Done 27368 tasks      | elapsed: 65.5min\n",
            "[Parallel(n_jobs=5)]: Done 28790 tasks      | elapsed: 68.5min\n",
            "[Parallel(n_jobs=5)]: Done 30248 tasks      | elapsed: 71.7min\n",
            "[Parallel(n_jobs=5)]: Done 31742 tasks      | elapsed: 74.9min\n",
            "[Parallel(n_jobs=5)]: Done 33272 tasks      | elapsed: 78.2min\n",
            "[Parallel(n_jobs=5)]: Done 33600 out of 33600 | elapsed: 78.9min finished\n",
            "[Parallel(n_jobs=-1)]: Using backend ThreadingBackend with 2 concurrent workers.\n"
          ],
          "name": "stderr"
        },
        {
          "output_type": "stream",
          "text": [
            "building tree 1 of 45building tree 2 of 45\n",
            "\n",
            "building tree 3 of 45\n",
            "building tree 4 of 45\n",
            "building tree 5 of 45\n",
            "building tree 6 of 45\n",
            "building tree 7 of 45\n",
            "building tree 8 of 45\n",
            "building tree 9 of 45\n",
            "building tree 10 of 45\n",
            "building tree 11 of 45\n",
            "building tree 12 of 45building tree 13 of 45\n",
            "\n",
            "building tree 14 of 45\n",
            "building tree 15 of 45\n",
            "building tree 16 of 45\n",
            "building tree 17 of 45\n",
            "building tree 18 of 45\n",
            "building tree 19 of 45\n",
            "building tree 20 of 45\n",
            "building tree 21 of 45\n",
            "building tree 22 of 45\n",
            "building tree 23 of 45\n",
            "building tree 24 of 45\n",
            "building tree 25 of 45\n",
            "building tree 26 of 45building tree 27 of 45\n",
            "\n",
            "building tree 28 of 45building tree 29 of 45\n",
            "\n",
            "building tree 30 of 45\n",
            "building tree 31 of 45\n",
            "building tree 32 of 45\n",
            "building tree 33 of 45\n",
            "building tree 34 of 45\n",
            "building tree 35 of 45\n",
            "building tree 36 of 45\n",
            "building tree 37 of 45\n",
            "building tree 38 of 45\n",
            "building tree 39 of 45\n",
            "building tree 40 of 45\n",
            "building tree 41 of 45\n",
            "building tree 42 of 45\n",
            "building tree 43 of 45\n",
            "building tree 44 of 45\n",
            "building tree 45 of 45\n"
          ],
          "name": "stdout"
        },
        {
          "output_type": "stream",
          "text": [
            "[Parallel(n_jobs=-1)]: Done  37 tasks      | elapsed:    0.1s\n",
            "[Parallel(n_jobs=-1)]: Done  45 out of  45 | elapsed:    0.1s finished\n"
          ],
          "name": "stderr"
        }
      ]
    },
    {
      "cell_type": "code",
      "metadata": {
        "id": "GV9sxeXxVM8L",
        "colab_type": "code",
        "colab": {}
      },
      "source": [
        "df_gridsearch1.to_csv(\"result_rf1.csv\")"
      ],
      "execution_count": 0,
      "outputs": []
    },
    {
      "cell_type": "code",
      "metadata": {
        "id": "v0eJyVkzVSHG",
        "colab_type": "code",
        "outputId": "33cb012b-34ce-4c18-8528-169befb05fd0",
        "colab": {
          "base_uri": "https://localhost:8080/",
          "height": 83
        }
      },
      "source": [
        "from sklearn.svm import SVC \n",
        "\n",
        "from sklearn.model_selection import GridSearchCV\n",
        "modelsvm = SVC(random_state=42, verbose=2)\n",
        "\n",
        "\n",
        "\n",
        "param_gridsvm = {'C': [0.1, 1, 10,20,50, 100,200,500,1000],  \n",
        "              'gamma': [1,0.5, 0.1, 0.01, 0.05, 0.001,0.005, 0.0001,0.0005], \n",
        "              'kernel': ['rbf']}  \n",
        "  \n",
        "\n",
        "\n",
        "svmgridsearch = GridSearchCV(estimator=modelsvm, param_grid=param_gridsvm, n_jobs=-1, \n",
        "                             cv=5, verbose=2, return_train_score=True,scoring=\"accuracy\")\n",
        "\n",
        "svmgridsearch.fit(Xtrain,Ytrain)\n",
        "\n",
        "df_gridsearchsvm = pd.DataFrame(svmgridsearch.cv_results_)"
      ],
      "execution_count": 0,
      "outputs": [
        {
          "output_type": "stream",
          "text": [
            "Fitting 5 folds for each of 81 candidates, totalling 405 fits\n"
          ],
          "name": "stdout"
        },
        {
          "output_type": "stream",
          "text": [
            "[Parallel(n_jobs=-1)]: Using backend LokyBackend with 2 concurrent workers.\n",
            "[Parallel(n_jobs=-1)]: Done 144 tasks      | elapsed:    3.1s\n"
          ],
          "name": "stderr"
        },
        {
          "output_type": "stream",
          "text": [
            "[LibSVM]"
          ],
          "name": "stdout"
        },
        {
          "output_type": "stream",
          "text": [
            "[Parallel(n_jobs=-1)]: Done 405 out of 405 | elapsed:    7.1s finished\n"
          ],
          "name": "stderr"
        }
      ]
    },
    {
      "cell_type": "code",
      "metadata": {
        "id": "0yndVS1RWneG",
        "colab_type": "code",
        "colab": {}
      },
      "source": [
        "df_gridsearchsvm.to_csv(\"result_svm.csv\")"
      ],
      "execution_count": 0,
      "outputs": []
    },
    {
      "cell_type": "code",
      "metadata": {
        "id": "F4g8ETW9ZlA7",
        "colab_type": "code",
        "outputId": "c53fa479-3aae-4b68-93df-66be2b5d9059",
        "colab": {
          "base_uri": "https://localhost:8080/",
          "height": 1000
        }
      },
      "source": [
        "%ls"
      ],
      "execution_count": 0,
      "outputs": [
        {
          "output_type": "stream",
          "text": [
            "'0perati0n:Reiten .gdoc'\n",
            "'2019 CS Coding Challenge Flyer.pdf'\n",
            "\u001b[0m\u001b[01;34m'242 exam4'\u001b[0m/\n",
            "'3.2.20 Final Data Sharing agreemnt Data  Science (1).pdf'\n",
            "'3.2.20 Final Data Sharing agreemnt Data  Science.docx'\n",
            " ACC221.pdf\n",
            " a.gdoc\n",
            " Analysis.ipynb\n",
            " analytics_colloquium_april242019_flier.pdf\n",
            " \u001b[01;34mAndroid\u001b[0m/\n",
            " app.zip\n",
            "'Bi-weekly Progress Report (2).pptx'\n",
            "'Book report.gdoc'\n",
            " centered_data.csv\n",
            " cfa.zip\n",
            " c.gdoc\n",
            " cgfinal414.csv\n",
            "'Chenwei Ma.rar'\n",
            " \u001b[01;34mchenweiprojectwork\u001b[0m/\n",
            " Chenwei_Project.zip\n",
            "'Chenwei Wu_ Resume.pdf'\n",
            " ChenweiWuResume.pdf\n",
            "'Class notes.gdoc'\n",
            " \u001b[01;34mcnn_models\u001b[0m/\n",
            "'code (1).ipynb'\n",
            " code.ipynb\n",
            "\u001b[01;34m'Colab Notebooks'\u001b[0m/\n",
            " comb\n",
            " companylist1.csv\n",
            "'Copy of slides March2.pptx'\n",
            " \u001b[01;34mCpt\u001b[0m/\n",
            "'curr (1).zip'\n",
            " curr.zip\n",
            " data_orig.csv\n",
            "'data_withcolumnsadded_nootheryearnan (1).csv'\n",
            " data_withcolumnsadded_nootheryearnan.csv\n",
            " demo.mp4\n",
            " \u001b[01;34mdeployed_models\u001b[0m/\n",
            " df_gridsearch.csv\n",
            " disc\n",
            " DSC265HW4.gdoc\n",
            " ECON207.pdf\n",
            "'Econ paper.gdoc'\n",
            " edit4.csv\n",
            " \u001b[01;34merika_coder\u001b[0m/\n",
            "'Event Description Form - Projects 2018-2019.gdoc'\n",
            "\u001b[01;34m'Fall 2017'\u001b[0m/\n",
            " \u001b[01;34mfiles\u001b[0m/\n",
            " FIN205.7z\n",
            "'finale paperwcw.docx'\n",
            "'Final Script.docx'\n",
            " geno\n",
            "'Hands-On Machine Learning with Scikit-Learn and TensorFlow.pdf'\n",
            "'HOMEWORK #8.docx'\n",
            " \u001b[01;34mhomeworks\u001b[0m/\n",
            " HW4a.ipynb\n",
            "'HW5-sol part3.gdoc'\n",
            " Instructor%2527s_manual.pdf\n",
            " IOS.zip\n",
            " \u001b[01;34mjeff\u001b[0m/\n",
            " KKK1.gdoc\n",
            " \u001b[01;34mlogs\u001b[0m/\n",
            " m2.gdoc\n",
            "'Meliora Hall.m4a'\n",
            " \u001b[01;34mmodels\u001b[0m/\n",
            "'Online course link.gdoc'\n",
            "\u001b[01;34m'opt files'\u001b[0m/\n",
            " organized.7z\n",
            " organized.zip\n",
            " output.png\n",
            " \u001b[01;34mproj2\u001b[0m/\n",
            " proj2p1report.pdf\n",
            "'Project Proposal.gdoc'\n",
            " project_report.doc\n",
            " project_report.pages\n",
            "'RDSS Budget Plan.gdoc'\n",
            "'RDSS Competition.gdoc'\n",
            "'RDSS Competition Registration.gform'\n",
            "'Real Code.gdoc'\n",
            " Report.gdoc\n",
            " result_rf1.csv\n",
            " result_svm.csv\n",
            "'resume Chenwei Wu - Chenwei Wu.docx'\n",
            "'Resume_Chenwei Wu.docx'\n",
            "'Resume - DG Comments.gdoc'\n",
            " Resume.docx\n",
            " s3.gdoc\n",
            " Schedule.png\n",
            " senti2.zip\n",
            " shibuya.mp4\n",
            " Signed.pdf\n",
            " Skit152-Rao-Wu-2.gdoc\n",
            "'slides March2.gslides'\n",
            "'SOA EXAM.zip'\n",
            "\u001b[01;34m'Spring 2017'\u001b[0m/\n",
            " \u001b[01;34mstock_data\u001b[0m/\n",
            " \u001b[01;34mStuff\u001b[0m/\n",
            " Summary.xlsx\n",
            " summation.gdoc\n",
            " Template.xlsx\n",
            " Transcript.pdf\n",
            " Twitter.zip\n",
            " UI.pptx\n",
            "'Untitled Diagram.drawio'\n",
            "'Untitled document (1).gdoc'\n",
            "'Untitled document (2).gdoc'\n",
            "'Untitled document.gdoc'\n",
            "'Untitled presentation.gslides'\n",
            " Weekend.7z\n",
            " z.gdoc\n",
            "'Zhengqing Ye Resume.pdf'\n",
            " ZIP.zip\n",
            " 微信图片_20180510142648.jpg\n",
            " 微信图片_20180510142655.jpg\n",
            " 微信图片_20180510142702.jpg\n",
            " 货币金融学第六版.pdf\n",
            " 需求模板.docx\n",
            " 霍叔叔GRE真题机经官方词表201805.pdf\n"
          ],
          "name": "stdout"
        }
      ]
    },
    {
      "cell_type": "code",
      "metadata": {
        "id": "QSybZXO5Oi9x",
        "colab_type": "code",
        "colab": {}
      },
      "source": [
        "####################EXTRAAA##################smote#######"
      ],
      "execution_count": 0,
      "outputs": []
    },
    {
      "cell_type": "code",
      "metadata": {
        "id": "9zy7CjBm96vq",
        "colab_type": "code",
        "colab": {}
      },
      "source": [
        "from sklearn.model_selection import train_test_split\n",
        "X_train,X_test,y_train,y_test = train_test_split(Xtrain,Ytrain,random_state=1)"
      ],
      "execution_count": 0,
      "outputs": []
    },
    {
      "cell_type": "code",
      "metadata": {
        "id": "0so6jQkE-B8M",
        "colab_type": "code",
        "colab": {
          "base_uri": "https://localhost:8080/",
          "height": 33
        },
        "outputId": "8a044473-64d1-475a-d524-01c8099db571"
      },
      "source": [
        "X_train.shape"
      ],
      "execution_count": 21,
      "outputs": [
        {
          "output_type": "execute_result",
          "data": {
            "text/plain": [
              "(298, 27)"
            ]
          },
          "metadata": {
            "tags": []
          },
          "execution_count": 21
        }
      ]
    },
    {
      "cell_type": "code",
      "metadata": {
        "id": "cf6dvg8z-CVu",
        "colab_type": "code",
        "colab": {
          "base_uri": "https://localhost:8080/",
          "height": 116
        },
        "outputId": "08a01b26-c0b2-4ee4-c01e-6403f3eb4d6b"
      },
      "source": [
        "!pip install imblearn"
      ],
      "execution_count": 22,
      "outputs": [
        {
          "output_type": "stream",
          "text": [
            "Requirement already satisfied: imblearn in /usr/local/lib/python3.6/dist-packages (0.0)\n",
            "Requirement already satisfied: imbalanced-learn in /usr/local/lib/python3.6/dist-packages (from imblearn) (0.4.3)\n",
            "Requirement already satisfied: scipy>=0.13.3 in /usr/local/lib/python3.6/dist-packages (from imbalanced-learn->imblearn) (1.4.1)\n",
            "Requirement already satisfied: numpy>=1.8.2 in /usr/local/lib/python3.6/dist-packages (from imbalanced-learn->imblearn) (1.18.2)\n",
            "Requirement already satisfied: scikit-learn>=0.20 in /usr/local/lib/python3.6/dist-packages (from imbalanced-learn->imblearn) (0.22.2.post1)\n",
            "Requirement already satisfied: joblib>=0.11 in /usr/local/lib/python3.6/dist-packages (from scikit-learn>=0.20->imbalanced-learn->imblearn) (0.14.1)\n"
          ],
          "name": "stdout"
        }
      ]
    },
    {
      "cell_type": "code",
      "metadata": {
        "id": "ftN95D9I-FAg",
        "colab_type": "code",
        "colab": {
          "base_uri": "https://localhost:8080/",
          "height": 103
        },
        "outputId": "5d048abc-f7a5-4aa5-b235-23ef00550426"
      },
      "source": [
        "from imblearn.pipeline import Pipeline\n",
        "from imblearn.over_sampling import SMOTE\n",
        "from sklearn.svm import SVC "
      ],
      "execution_count": 23,
      "outputs": [
        {
          "output_type": "stream",
          "text": [
            "/usr/local/lib/python3.6/dist-packages/sklearn/externals/six.py:31: FutureWarning: The module is deprecated in version 0.21 and will be removed in version 0.23 since we've dropped support for Python 2.7. Please rely on the official version of six (https://pypi.org/project/six/).\n",
            "  \"(https://pypi.org/project/six/).\", FutureWarning)\n",
            "/usr/local/lib/python3.6/dist-packages/sklearn/utils/deprecation.py:144: FutureWarning: The sklearn.neighbors.base module is  deprecated in version 0.22 and will be removed in version 0.24. The corresponding classes / functions should instead be imported from sklearn.neighbors. Anything that cannot be imported from sklearn.neighbors is now part of the private API.\n",
            "  warnings.warn(message, FutureWarning)\n"
          ],
          "name": "stderr"
        }
      ]
    },
    {
      "cell_type": "code",
      "metadata": {
        "id": "eXLye8lq-Gsr",
        "colab_type": "code",
        "colab": {}
      },
      "source": [
        "random_state = 42\n",
        "modelsvm = Pipeline([\n",
        "        # Original SMOTE class\n",
        "        ('smote', SMOTE(random_state=random_state)),\n",
        "        ('svm', SVC(random_state=42, verbose=2,kernel='rbf'))\n",
        "    ])\n",
        "\n",
        "# modelsvm = SVC(random_state=42, verbose=2,kernel='rbf')\n",
        "\n",
        "from sklearn.model_selection import GridSearchCV\n",
        "\n",
        "\n",
        "\n",
        "param_gridsvm = {'svm__C': [0.1, 1, 10,20,50, 100,200,500,1000],  \n",
        "              'svm__gamma': [1,0.5, 0.1, 0.01, 0.05, 0.001,0.005, 0.0001,0.0005]}  \n",
        "  \n",
        "\n",
        "\n",
        "svmgridsearch = GridSearchCV(estimator=modelsvm, param_grid=param_gridsvm, n_jobs=-1, \n",
        "                             cv=5, verbose=2, return_train_score=True,scoring=\"accuracy\")\n",
        "\n",
        "svmgridsearch.fit(Xtrain,Ytrain)\n",
        "\n",
        "df_gridsearchsvmk = pd.DataFrame(svmgridsearch.cv_results_)"
      ],
      "execution_count": 0,
      "outputs": []
    },
    {
      "cell_type": "code",
      "metadata": {
        "id": "NQtrJQJb-KkT",
        "colab_type": "code",
        "colab": {}
      },
      "source": [
        "df_gridsearchsvmk"
      ],
      "execution_count": 0,
      "outputs": []
    },
    {
      "cell_type": "code",
      "metadata": {
        "id": "VHMxIzka-Mbd",
        "colab_type": "code",
        "colab": {}
      },
      "source": [
        "listresults=[]"
      ],
      "execution_count": 0,
      "outputs": []
    },
    {
      "cell_type": "code",
      "metadata": {
        "id": "THFfz-rK-N-5",
        "colab_type": "code",
        "colab": {}
      },
      "source": [
        "\n",
        "def evaluate_model(model, model_name, params):\n",
        "    \n",
        "    grid_search = GridSearchCV(model,params,cv=5,n_jobs=-1, verbose=5, return_train_score=True,scoring=\"accuracy\")\n",
        "    grid_search.fit(X_train,y_train)\n",
        "    \n",
        "    \n",
        "    test_score=grid_search.score(X_test,y_test)\n",
        "    listresults.append(pd.DataFrame(grid_search.cv_results_))\n",
        "    print('Classifier')\n",
        "    print(model_name)\n",
        "    print('Test Score')\n",
        "    print(test_score)\n",
        "    print(\"CV Score\")\n",
        "    print(grid_search.best_score_)\n",
        "    print(\"best params\")\n",
        "    print(grid_search.best_params_)"
      ],
      "execution_count": 0,
      "outputs": []
    },
    {
      "cell_type": "code",
      "metadata": {
        "id": "zGTvSvev-QE7",
        "colab_type": "code",
        "colab": {}
      },
      "source": [
        "\n",
        "\n",
        "from sklearn.ensemble import RandomForestClassifier, AdaBoostClassifier\n",
        "    \n",
        "# The function `init_classifiers` returns a list of classifiers to be trained on the datasets\n",
        "def init_classifiers():\n",
        "    return([(SVC(), model_names[0], param_grid_svc), \n",
        "            (RandomForestClassifier(), model_names[1], param_grid_rf),\n",
        "           ])\n",
        "\n",
        "# 'model_names' contains the names  that we will use for the above classifiers\n",
        "model_names = ['SVM','RF']\n",
        "\n",
        "# the training parameters of each model\n",
        "param_grid_svc = [{'C': [0.1, 1, 10,20,50, 100,200,500,1000],  \n",
        "              'gamma': [1,0.5, 0.1, 0.01, 0.05, 0.001,0.005, 0.0001,0.0005], \n",
        "              'kernel': ['rbf'],'random_state':[42]}]\n",
        "param_grid_rf = [{\n",
        "        'max_features': [0.07, 0.15, 0.25],\n",
        "        'n_estimators': [10,45, 60,110, 148],\n",
        "        'min_samples_split': [2, 3, 5, 8],\n",
        "         'min_samples_leaf': [1, 2, 4,8],\n",
        "        'bootstrap': [True, False],\n",
        "        'max_depth': [10, 20,40],\n",
        "        'random_state':[42],\n",
        "        'n_jobs':[-1],\n",
        "        'verbose':[2]\n",
        "       }]"
      ],
      "execution_count": 0,
      "outputs": []
    },
    {
      "cell_type": "code",
      "metadata": {
        "id": "tMZocg-8-Q-u",
        "colab_type": "code",
        "colab": {}
      },
      "source": [
        "for m in init_classifiers():\n",
        "    evaluate_model(m[0], m[1], m[2])"
      ],
      "execution_count": 0,
      "outputs": []
    },
    {
      "cell_type": "code",
      "metadata": {
        "id": "AUMmoyb_-XVO",
        "colab_type": "code",
        "colab": {}
      },
      "source": [
        "# Fitting 5 folds for each of 81 candidates, totalling 405 fits\n",
        "# [Parallel(n_jobs=-1)]: Using backend LokyBackend with 2 concurrent workers.\n",
        "# [Parallel(n_jobs=-1)]: Done  14 tasks      | elapsed:    0.9s\n",
        "# [Parallel(n_jobs=-1)]: Done 405 out of 405 | elapsed:    4.1s finished\n",
        "# [Parallel(n_jobs=-1)]: Using backend LokyBackend with 2 concurrent workers.\n",
        "# Classifier\n",
        "# SVM\n",
        "# Test Score\n",
        "# 0.99\n",
        "# CV Score\n",
        "# 1.0\n",
        "# best params\n",
        "# {'C': 20, 'gamma': 0.001, 'kernel': 'rbf', 'random_state': 42}\n",
        "# Fitting 5 folds for each of 1440 candidates, totalling 7200 fits\n",
        "# [Parallel(n_jobs=-1)]: Done  14 tasks      | elapsed:    2.5s\n",
        "# [Parallel(n_jobs=-1)]: Done  68 tasks      | elapsed:   14.3s\n",
        "# [Parallel(n_jobs=-1)]: Done 158 tasks      | elapsed:   33.3s\n",
        "# [Parallel(n_jobs=-1)]: Done 284 tasks      | elapsed:   59.8s\n",
        "# [Parallel(n_jobs=-1)]: Done 446 tasks      | elapsed:  1.6min\n",
        "# [Parallel(n_jobs=-1)]: Done 644 tasks      | elapsed:  2.3min\n",
        "# [Parallel(n_jobs=-1)]: Done 878 tasks      | elapsed:  3.1min\n",
        "# [Parallel(n_jobs=-1)]: Done 1148 tasks      | elapsed:  4.1min\n",
        "# [Parallel(n_jobs=-1)]: Done 1454 tasks      | elapsed:  5.1min\n",
        "# [Parallel(n_jobs=-1)]: Done 1796 tasks      | elapsed:  6.3min\n",
        "# [Parallel(n_jobs=-1)]: Done 2174 tasks      | elapsed:  7.7min\n",
        "# [Parallel(n_jobs=-1)]: Done 2588 tasks      | elapsed:  9.2min\n",
        "# [Parallel(n_jobs=-1)]: Done 3038 tasks      | elapsed: 10.8min\n",
        "# [Parallel(n_jobs=-1)]: Done 3524 tasks      | elapsed: 12.5min\n",
        "# [Parallel(n_jobs=-1)]: Done 4046 tasks      | elapsed: 14.2min\n",
        "# [Parallel(n_jobs=-1)]: Done 4604 tasks      | elapsed: 16.0min\n",
        "# [Parallel(n_jobs=-1)]: Done 5198 tasks      | elapsed: 17.9min\n",
        "# [Parallel(n_jobs=-1)]: Done 5828 tasks      | elapsed: 20.0min\n",
        "# [Parallel(n_jobs=-1)]: Done 6494 tasks      | elapsed: 22.1min\n",
        "# [Parallel(n_jobs=-1)]: Done 7196 tasks      | elapsed: 24.4min\n",
        "# [Parallel(n_jobs=-1)]: Done 7200 out of 7200 | elapsed: 24.4min finished\n",
        "# [Parallel(n_jobs=-1)]: Using backend ThreadingBackend with 2 concurrent workers.\n",
        "# [Parallel(n_jobs=-1)]: Done  37 tasks      | elapsed:    0.1s\n",
        "# [Parallel(n_jobs=-1)]: Done  45 out of  45 | elapsed:    0.1s finished\n",
        "# [Parallel(n_jobs=2)]: Using backend ThreadingBackend with 2 concurrent workers.\n",
        "# [Parallel(n_jobs=2)]: Done  37 tasks      | elapsed:    0.0s\n",
        "# [Parallel(n_jobs=2)]: Done  45 out of  45 | elapsed:    0.0s finished\n",
        "# building tree 1 of 45\n",
        "# building tree 2 of 45\n",
        "# building tree 3 of 45\n",
        "# building tree 4 of 45building tree 5 of 45\n",
        "\n",
        "# building tree 6 of 45\n",
        "# building tree 7 of 45\n",
        "# building tree 8 of 45\n",
        "# building tree 9 of 45\n",
        "# building tree 10 of 45\n",
        "# building tree 11 of 45building tree 12 of 45\n",
        "\n",
        "# building tree 13 of 45\n",
        "# building tree 14 of 45\n",
        "# building tree 15 of 45\n",
        "# building tree 16 of 45\n",
        "# building tree 17 of 45\n",
        "# building tree 18 of 45\n",
        "# building tree 19 of 45\n",
        "# building tree 20 of 45\n",
        "# building tree 21 of 45\n",
        "# building tree 22 of 45\n",
        "# building tree 23 of 45\n",
        "# building tree 24 of 45\n",
        "# building tree 25 of 45\n",
        "# building tree 26 of 45\n",
        "# building tree 27 of 45\n",
        "# building tree 28 of 45\n",
        "# building tree 29 of 45\n",
        "# building tree 30 of 45\n",
        "# building tree 31 of 45\n",
        "# building tree 32 of 45\n",
        "# building tree 33 of 45\n",
        "# building tree 34 of 45building tree 35 of 45\n",
        "\n",
        "# building tree 36 of 45\n",
        "# building tree 37 of 45\n",
        "# building tree 38 of 45\n",
        "# building tree 39 of 45building tree 40 of 45\n",
        "\n",
        "# building tree 41 of 45\n",
        "# building tree 42 of 45\n",
        "# building tree 43 of 45\n",
        "# building tree 44 of 45\n",
        "# building tree 45 of 45\n",
        "# Classifier\n",
        "# RF\n",
        "# Test Score\n",
        "# 1.0\n",
        "# CV Score\n",
        "# 1.0\n",
        "# best params\n",
        "# {'bootstrap': True, 'max_depth': 10, 'max_features': 0.15, 'min_samples_leaf': 1, 'min_samples_split': 2, 'n_estimators': 45, 'n_jobs': -1, 'random_state': 42, 'verbose': 2}"
      ],
      "execution_count": 0,
      "outputs": []
    },
    {
      "cell_type": "code",
      "metadata": {
        "id": "5w1hQ6AG-aoN",
        "colab_type": "code",
        "colab": {}
      },
      "source": [
        "listresults[0].to_csv(\"gsearchres1.csv\")"
      ],
      "execution_count": 0,
      "outputs": []
    },
    {
      "cell_type": "code",
      "metadata": {
        "id": "0Hb73TuU-b_8",
        "colab_type": "code",
        "colab": {}
      },
      "source": [
        "listresults[1].to_csv(\"gsearchres2.csv\")"
      ],
      "execution_count": 0,
      "outputs": []
    }
  ]
}